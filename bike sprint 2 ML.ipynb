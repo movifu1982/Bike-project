{
 "cells": [
  {
   "cell_type": "code",
   "execution_count": 1,
   "metadata": {},
   "outputs": [],
   "source": [
    "# data normalisation with sklearn\n",
    "from sklearn.preprocessing import MinMaxScaler\n",
    "from sklearn.preprocessing import OneHotEncoder\n",
    "from sklearn.preprocessing import LabelEncoder\n",
    "import numpy as np\n",
    "import pandas as pd\n",
    "import matplotlib.pyplot as plt\n",
    "%matplotlib inline\n",
    "from matplotlib.pylab import rcParams\n",
    "rcParams [\"figure.figsize\"] = 10,6\n",
    "import seaborn as sns\n",
    "from scipy import stats\n",
    "import math\n",
    "import datetime\n",
    "import urllib\n",
    "import zipfile\n",
    "import statsmodels.tsa.stattools as sts\n",
    "from statsmodels.tsa.seasonal import seasonal_decompose\n",
    "import plotly.express as px\n",
    "import glob\n",
    "ohe = OneHotEncoder\n",
    "le = LabelEncoder()\n",
    "from sklearn.compose import ColumnTransformer\n",
    "le = LabelEncoder()\n",
    "\n",
    "from sklearn.model_selection import train_test_split\n",
    "\n",
    "from sklearn.feature_selection import RFE\n",
    "from sklearn.linear_model import LinearRegression as lr\n",
    "\n",
    "from sklearn.metrics import r2_score\n",
    "from sklearn.metrics import accuracy_score\n",
    "from sklearn.metrics import classification_report\n",
    "from sklearn.preprocessing import StandardScaler\n",
    "\n",
    "from sklearn.metrics import cohen_kappa_score"
   ]
  },
  {
   "cell_type": "code",
   "execution_count": 2,
   "metadata": {},
   "outputs": [],
   "source": [
    "bike_station = pd.read_csv('stations.csv')\n"
   ]
  },
  {
   "cell_type": "code",
   "execution_count": 3,
   "metadata": {},
   "outputs": [
    {
     "data": {
      "text/html": [
       "<div>\n",
       "<style scoped>\n",
       "    .dataframe tbody tr th:only-of-type {\n",
       "        vertical-align: middle;\n",
       "    }\n",
       "\n",
       "    .dataframe tbody tr th {\n",
       "        vertical-align: top;\n",
       "    }\n",
       "\n",
       "    .dataframe thead th {\n",
       "        text-align: right;\n",
       "    }\n",
       "</style>\n",
       "<table border=\"1\" class=\"dataframe\">\n",
       "  <thead>\n",
       "    <tr style=\"text-align: right;\">\n",
       "      <th></th>\n",
       "      <th>Duration</th>\n",
       "      <th>Start date</th>\n",
       "      <th>End date</th>\n",
       "      <th>Start station number</th>\n",
       "      <th>Start station</th>\n",
       "      <th>End station number</th>\n",
       "      <th>End station</th>\n",
       "      <th>Bike number</th>\n",
       "      <th>Member type</th>\n",
       "    </tr>\n",
       "  </thead>\n",
       "  <tbody>\n",
       "    <tr>\n",
       "      <th>1226762</th>\n",
       "      <td>300</td>\n",
       "      <td>2011-12-31 23:41:19</td>\n",
       "      <td>2011-12-31 23:46:20</td>\n",
       "      <td>31201</td>\n",
       "      <td>15th &amp; P St NW</td>\n",
       "      <td>31214</td>\n",
       "      <td>17th &amp; Corcoran St NW</td>\n",
       "      <td>W01459</td>\n",
       "      <td>Member</td>\n",
       "    </tr>\n",
       "    <tr>\n",
       "      <th>1226763</th>\n",
       "      <td>387</td>\n",
       "      <td>2011-12-31 23:46:43</td>\n",
       "      <td>2011-12-31 23:53:10</td>\n",
       "      <td>31223</td>\n",
       "      <td>Convention Center / 7th &amp; M St NW</td>\n",
       "      <td>31201</td>\n",
       "      <td>15th &amp; P St NW</td>\n",
       "      <td>W01262</td>\n",
       "      <td>Member</td>\n",
       "    </tr>\n",
       "    <tr>\n",
       "      <th>1226764</th>\n",
       "      <td>261</td>\n",
       "      <td>2011-12-31 23:47:27</td>\n",
       "      <td>2011-12-31 23:51:49</td>\n",
       "      <td>31107</td>\n",
       "      <td>Lamont &amp; Mt Pleasant NW</td>\n",
       "      <td>31602</td>\n",
       "      <td>Park Rd &amp; Holmead Pl NW</td>\n",
       "      <td>W00998</td>\n",
       "      <td>Member</td>\n",
       "    </tr>\n",
       "    <tr>\n",
       "      <th>1226765</th>\n",
       "      <td>2060</td>\n",
       "      <td>2011-12-31 23:55:12</td>\n",
       "      <td>2012-01-01 00:29:33</td>\n",
       "      <td>31205</td>\n",
       "      <td>21st &amp; I St NW</td>\n",
       "      <td>31222</td>\n",
       "      <td>New York Ave &amp; 15th St NW</td>\n",
       "      <td>W00042</td>\n",
       "      <td>Member</td>\n",
       "    </tr>\n",
       "    <tr>\n",
       "      <th>1226766</th>\n",
       "      <td>468</td>\n",
       "      <td>2011-12-31 23:55:56</td>\n",
       "      <td>2012-01-01 00:03:45</td>\n",
       "      <td>31221</td>\n",
       "      <td>18th &amp; M St NW</td>\n",
       "      <td>31111</td>\n",
       "      <td>10th &amp; U St NW</td>\n",
       "      <td>W01319</td>\n",
       "      <td>Member</td>\n",
       "    </tr>\n",
       "  </tbody>\n",
       "</table>\n",
       "</div>"
      ],
      "text/plain": [
       "         Duration           Start date             End date  \\\n",
       "1226762       300  2011-12-31 23:41:19  2011-12-31 23:46:20   \n",
       "1226763       387  2011-12-31 23:46:43  2011-12-31 23:53:10   \n",
       "1226764       261  2011-12-31 23:47:27  2011-12-31 23:51:49   \n",
       "1226765      2060  2011-12-31 23:55:12  2012-01-01 00:29:33   \n",
       "1226766       468  2011-12-31 23:55:56  2012-01-01 00:03:45   \n",
       "\n",
       "         Start station number                      Start station  \\\n",
       "1226762                 31201                     15th & P St NW   \n",
       "1226763                 31223  Convention Center / 7th & M St NW   \n",
       "1226764                 31107            Lamont & Mt Pleasant NW   \n",
       "1226765                 31205                     21st & I St NW   \n",
       "1226766                 31221                     18th & M St NW   \n",
       "\n",
       "         End station number                End station Bike number Member type  \n",
       "1226762               31214      17th & Corcoran St NW      W01459      Member  \n",
       "1226763               31201             15th & P St NW      W01262      Member  \n",
       "1226764               31602    Park Rd & Holmead Pl NW      W00998      Member  \n",
       "1226765               31222  New York Ave & 15th St NW      W00042      Member  \n",
       "1226766               31111             10th & U St NW      W01319      Member  "
      ]
     },
     "execution_count": 3,
     "metadata": {},
     "output_type": "execute_result"
    }
   ],
   "source": [
    "bike_station.tail(5)"
   ]
  },
  {
   "cell_type": "code",
   "execution_count": 4,
   "metadata": {},
   "outputs": [],
   "source": [
    "# Convert start date to datetime format\n",
    "bike_station[\"Start date\"] = bike_station[\"Start date\"].astype(\"datetime64\")"
   ]
  },
  {
   "cell_type": "code",
   "execution_count": 5,
   "metadata": {},
   "outputs": [
    {
     "name": "stdout",
     "output_type": "stream",
     "text": [
      "<class 'pandas.core.frame.DataFrame'>\n",
      "RangeIndex: 1226767 entries, 0 to 1226766\n",
      "Data columns (total 9 columns):\n",
      " #   Column                Non-Null Count    Dtype         \n",
      "---  ------                --------------    -----         \n",
      " 0   Duration              1226767 non-null  int64         \n",
      " 1   Start date            1226767 non-null  datetime64[ns]\n",
      " 2   End date              1226767 non-null  object        \n",
      " 3   Start station number  1226767 non-null  int64         \n",
      " 4   Start station         1226767 non-null  object        \n",
      " 5   End station number    1226767 non-null  int64         \n",
      " 6   End station           1226767 non-null  object        \n",
      " 7   Bike number           1226767 non-null  object        \n",
      " 8   Member type           1226767 non-null  object        \n",
      "dtypes: datetime64[ns](1), int64(3), object(5)\n",
      "memory usage: 84.2+ MB\n"
     ]
    }
   ],
   "source": [
    "# Check to see if the type conversion worked.\n",
    "bike_station.info()"
   ]
  },
  {
   "cell_type": "code",
   "execution_count": 6,
   "metadata": {},
   "outputs": [
    {
     "data": {
      "text/html": [
       "<div>\n",
       "<style scoped>\n",
       "    .dataframe tbody tr th:only-of-type {\n",
       "        vertical-align: middle;\n",
       "    }\n",
       "\n",
       "    .dataframe tbody tr th {\n",
       "        vertical-align: top;\n",
       "    }\n",
       "\n",
       "    .dataframe thead th {\n",
       "        text-align: right;\n",
       "    }\n",
       "</style>\n",
       "<table border=\"1\" class=\"dataframe\">\n",
       "  <thead>\n",
       "    <tr style=\"text-align: right;\">\n",
       "      <th></th>\n",
       "      <th>Start date</th>\n",
       "      <th>Casual</th>\n",
       "    </tr>\n",
       "  </thead>\n",
       "  <tbody>\n",
       "    <tr>\n",
       "      <th>0</th>\n",
       "      <td>2011-01-01 00:00:00</td>\n",
       "      <td>3</td>\n",
       "    </tr>\n",
       "    <tr>\n",
       "      <th>1</th>\n",
       "      <td>2011-01-01 01:00:00</td>\n",
       "      <td>8</td>\n",
       "    </tr>\n",
       "    <tr>\n",
       "      <th>2</th>\n",
       "      <td>2011-01-01 02:00:00</td>\n",
       "      <td>5</td>\n",
       "    </tr>\n",
       "    <tr>\n",
       "      <th>3</th>\n",
       "      <td>2011-01-01 03:00:00</td>\n",
       "      <td>3</td>\n",
       "    </tr>\n",
       "    <tr>\n",
       "      <th>4</th>\n",
       "      <td>2011-01-01 04:00:00</td>\n",
       "      <td>0</td>\n",
       "    </tr>\n",
       "  </tbody>\n",
       "</table>\n",
       "</div>"
      ],
      "text/plain": [
       "           Start date  Casual\n",
       "0 2011-01-01 00:00:00       3\n",
       "1 2011-01-01 01:00:00       8\n",
       "2 2011-01-01 02:00:00       5\n",
       "3 2011-01-01 03:00:00       3\n",
       "4 2011-01-01 04:00:00       0"
      ]
     },
     "execution_count": 6,
     "metadata": {},
     "output_type": "execute_result"
    }
   ],
   "source": [
    "# Here I am creating a new dataframe after first selecting all the rows with the \"Casual\" and then grouping them by Hour and then counting it using .count()\n",
    "# renaming the column to \"Casual\"\n",
    "casual = bike_station[bike_station['Member type'] == 'Casual'].groupby(pd.Grouper(key = 'Start date', freq = 'H')).count().rename(columns={'Member type': 'Casual'}).reset_index()\n",
    "casual = casual[['Start date', \"Casual\"]]\n",
    "casual.head()"
   ]
  },
  {
   "cell_type": "code",
   "execution_count": 7,
   "metadata": {},
   "outputs": [
    {
     "data": {
      "text/html": [
       "<div>\n",
       "<style scoped>\n",
       "    .dataframe tbody tr th:only-of-type {\n",
       "        vertical-align: middle;\n",
       "    }\n",
       "\n",
       "    .dataframe tbody tr th {\n",
       "        vertical-align: top;\n",
       "    }\n",
       "\n",
       "    .dataframe thead th {\n",
       "        text-align: right;\n",
       "    }\n",
       "</style>\n",
       "<table border=\"1\" class=\"dataframe\">\n",
       "  <thead>\n",
       "    <tr style=\"text-align: right;\">\n",
       "      <th></th>\n",
       "      <th>Start date</th>\n",
       "      <th>Registered</th>\n",
       "    </tr>\n",
       "  </thead>\n",
       "  <tbody>\n",
       "    <tr>\n",
       "      <th>0</th>\n",
       "      <td>2011-01-01 00:00:00</td>\n",
       "      <td>13</td>\n",
       "    </tr>\n",
       "    <tr>\n",
       "      <th>1</th>\n",
       "      <td>2011-01-01 01:00:00</td>\n",
       "      <td>30</td>\n",
       "    </tr>\n",
       "    <tr>\n",
       "      <th>2</th>\n",
       "      <td>2011-01-01 02:00:00</td>\n",
       "      <td>26</td>\n",
       "    </tr>\n",
       "    <tr>\n",
       "      <th>3</th>\n",
       "      <td>2011-01-01 03:00:00</td>\n",
       "      <td>9</td>\n",
       "    </tr>\n",
       "    <tr>\n",
       "      <th>4</th>\n",
       "      <td>2011-01-01 04:00:00</td>\n",
       "      <td>1</td>\n",
       "    </tr>\n",
       "  </tbody>\n",
       "</table>\n",
       "</div>"
      ],
      "text/plain": [
       "           Start date  Registered\n",
       "0 2011-01-01 00:00:00          13\n",
       "1 2011-01-01 01:00:00          30\n",
       "2 2011-01-01 02:00:00          26\n",
       "3 2011-01-01 03:00:00           9\n",
       "4 2011-01-01 04:00:00           1"
      ]
     },
     "execution_count": 7,
     "metadata": {},
     "output_type": "execute_result"
    }
   ],
   "source": [
    "# Here I am doing the same as above but for registered users. \n",
    "registered = bike_station[bike_station['Member type'] == 'Member'].groupby(pd.Grouper(key = 'Start date', freq = 'H')).count().rename(columns={'Member type': 'Registered'}).reset_index()\n",
    "registered = registered[['Start date', \"Registered\"]]\n",
    "registered.head()"
   ]
  },
  {
   "cell_type": "code",
   "execution_count": 8,
   "metadata": {},
   "outputs": [
    {
     "data": {
      "text/html": [
       "<div>\n",
       "<style scoped>\n",
       "    .dataframe tbody tr th:only-of-type {\n",
       "        vertical-align: middle;\n",
       "    }\n",
       "\n",
       "    .dataframe tbody tr th {\n",
       "        vertical-align: top;\n",
       "    }\n",
       "\n",
       "    .dataframe thead th {\n",
       "        text-align: right;\n",
       "    }\n",
       "</style>\n",
       "<table border=\"1\" class=\"dataframe\">\n",
       "  <thead>\n",
       "    <tr style=\"text-align: right;\">\n",
       "      <th></th>\n",
       "      <th>Start date</th>\n",
       "      <th>Registered</th>\n",
       "      <th>Casual</th>\n",
       "    </tr>\n",
       "  </thead>\n",
       "  <tbody>\n",
       "    <tr>\n",
       "      <th>0</th>\n",
       "      <td>2011-01-01 00:00:00</td>\n",
       "      <td>13</td>\n",
       "      <td>3</td>\n",
       "    </tr>\n",
       "    <tr>\n",
       "      <th>1</th>\n",
       "      <td>2011-01-01 01:00:00</td>\n",
       "      <td>30</td>\n",
       "      <td>8</td>\n",
       "    </tr>\n",
       "    <tr>\n",
       "      <th>2</th>\n",
       "      <td>2011-01-01 02:00:00</td>\n",
       "      <td>26</td>\n",
       "      <td>5</td>\n",
       "    </tr>\n",
       "    <tr>\n",
       "      <th>3</th>\n",
       "      <td>2011-01-01 03:00:00</td>\n",
       "      <td>9</td>\n",
       "      <td>3</td>\n",
       "    </tr>\n",
       "    <tr>\n",
       "      <th>4</th>\n",
       "      <td>2011-01-01 04:00:00</td>\n",
       "      <td>1</td>\n",
       "      <td>0</td>\n",
       "    </tr>\n",
       "  </tbody>\n",
       "</table>\n",
       "</div>"
      ],
      "text/plain": [
       "           Start date  Registered  Casual\n",
       "0 2011-01-01 00:00:00          13       3\n",
       "1 2011-01-01 01:00:00          30       8\n",
       "2 2011-01-01 02:00:00          26       5\n",
       "3 2011-01-01 03:00:00           9       3\n",
       "4 2011-01-01 04:00:00           1       0"
      ]
     },
     "execution_count": 8,
     "metadata": {},
     "output_type": "execute_result"
    }
   ],
   "source": [
    "# Now that we have our two dataframes, Registered and Casual, we need to join them into one df using merge.\n",
    "df_user_count= pd.merge(registered,casual, how='outer', on = \"Start date\")\n",
    "df_user_count.head()"
   ]
  },
  {
   "cell_type": "code",
   "execution_count": 9,
   "metadata": {},
   "outputs": [
    {
     "data": {
      "text/html": [
       "<div>\n",
       "<style scoped>\n",
       "    .dataframe tbody tr th:only-of-type {\n",
       "        vertical-align: middle;\n",
       "    }\n",
       "\n",
       "    .dataframe tbody tr th {\n",
       "        vertical-align: top;\n",
       "    }\n",
       "\n",
       "    .dataframe thead th {\n",
       "        text-align: right;\n",
       "    }\n",
       "</style>\n",
       "<table border=\"1\" class=\"dataframe\">\n",
       "  <thead>\n",
       "    <tr style=\"text-align: right;\">\n",
       "      <th></th>\n",
       "      <th>Start date</th>\n",
       "      <th>Registered</th>\n",
       "      <th>Casual</th>\n",
       "      <th>Total</th>\n",
       "    </tr>\n",
       "  </thead>\n",
       "  <tbody>\n",
       "    <tr>\n",
       "      <th>0</th>\n",
       "      <td>2011-01-01 00:00:00</td>\n",
       "      <td>13</td>\n",
       "      <td>3</td>\n",
       "      <td>16</td>\n",
       "    </tr>\n",
       "    <tr>\n",
       "      <th>1</th>\n",
       "      <td>2011-01-01 01:00:00</td>\n",
       "      <td>30</td>\n",
       "      <td>8</td>\n",
       "      <td>38</td>\n",
       "    </tr>\n",
       "    <tr>\n",
       "      <th>2</th>\n",
       "      <td>2011-01-01 02:00:00</td>\n",
       "      <td>26</td>\n",
       "      <td>5</td>\n",
       "      <td>31</td>\n",
       "    </tr>\n",
       "    <tr>\n",
       "      <th>3</th>\n",
       "      <td>2011-01-01 03:00:00</td>\n",
       "      <td>9</td>\n",
       "      <td>3</td>\n",
       "      <td>12</td>\n",
       "    </tr>\n",
       "    <tr>\n",
       "      <th>4</th>\n",
       "      <td>2011-01-01 04:00:00</td>\n",
       "      <td>1</td>\n",
       "      <td>0</td>\n",
       "      <td>1</td>\n",
       "    </tr>\n",
       "  </tbody>\n",
       "</table>\n",
       "</div>"
      ],
      "text/plain": [
       "           Start date  Registered  Casual  Total\n",
       "0 2011-01-01 00:00:00          13       3     16\n",
       "1 2011-01-01 01:00:00          30       8     38\n",
       "2 2011-01-01 02:00:00          26       5     31\n",
       "3 2011-01-01 03:00:00           9       3     12\n",
       "4 2011-01-01 04:00:00           1       0      1"
      ]
     },
     "execution_count": 9,
     "metadata": {},
     "output_type": "execute_result"
    }
   ],
   "source": [
    "# Now we create a total by adding the casual and registered user for each hour.\n",
    "df_user_count = df_user_count.assign(Total = df_user_count['Registered'] + df_user_count['Casual'])\n",
    "df_user_count.head()"
   ]
  },
  {
   "cell_type": "code",
   "execution_count": 10,
   "metadata": {},
   "outputs": [],
   "source": [
    "# # Now that we have our two dataframes, Registered and Casual, we need to join them into one df using merge.\n",
    "# df_user_count= pd.merge(registered,casual, how='outer', on = \"Start date\")\n",
    "\n",
    "# # But when we merge these two dataframes, Registered and Casual, we are merging them on the start date. \n",
    "# # So for instance at 1 am on 2011-01-01 there are 8 casual and 30 registered users.\n",
    "# # But at 4 am on 2011-01-01 there is 0 \n",
    "# df_user_count['Registered'] = df_user_count['Registered'].fillna(0)\n",
    "# df_user_count['Casual'] = df_user_count['Casual'].fillna(0).astype(int)\n",
    "# df_user_count = df_user_count.assign(Total = df_user_count['Registered'] + df_user_count['Casual'])"
   ]
  },
  {
   "cell_type": "code",
   "execution_count": 11,
   "metadata": {},
   "outputs": [],
   "source": [
    "# Here I want to break up the start date to granular components that I may use for the machine learning model.\n",
    "\n",
    "df_user_count['Year'] = df_user_count['Start date'].dt.year\n",
    "df_user_count['Quarter'] = df_user_count['Start date'].dt.quarter\n",
    "df_user_count['Month'] = df_user_count['Start date'].dt.month\n",
    "df_user_count['Date'] = df_user_count['Start date'].dt.day\n",
    "df_user_count['Day_of_Week'] = df_user_count['Start date'].dt.dayofweek\n",
    "df_user_count['Hour'] = df_user_count['Start date'].dt.hour\n",
    "df_user_count[\"Weekend\"] = df_user_count[\"Date\"] >= 5"
   ]
  },
  {
   "cell_type": "code",
   "execution_count": 12,
   "metadata": {},
   "outputs": [
    {
     "data": {
      "text/html": [
       "<div>\n",
       "<style scoped>\n",
       "    .dataframe tbody tr th:only-of-type {\n",
       "        vertical-align: middle;\n",
       "    }\n",
       "\n",
       "    .dataframe tbody tr th {\n",
       "        vertical-align: top;\n",
       "    }\n",
       "\n",
       "    .dataframe thead th {\n",
       "        text-align: right;\n",
       "    }\n",
       "</style>\n",
       "<table border=\"1\" class=\"dataframe\">\n",
       "  <thead>\n",
       "    <tr style=\"text-align: right;\">\n",
       "      <th></th>\n",
       "      <th>Start date</th>\n",
       "      <th>Registered</th>\n",
       "      <th>Casual</th>\n",
       "      <th>Total</th>\n",
       "      <th>Year</th>\n",
       "      <th>Quarter</th>\n",
       "      <th>Month</th>\n",
       "      <th>Date</th>\n",
       "      <th>Day_of_Week</th>\n",
       "      <th>Hour</th>\n",
       "      <th>Weekend</th>\n",
       "    </tr>\n",
       "  </thead>\n",
       "  <tbody>\n",
       "    <tr>\n",
       "      <th>0</th>\n",
       "      <td>2011-01-01 00:00:00</td>\n",
       "      <td>13</td>\n",
       "      <td>3</td>\n",
       "      <td>16</td>\n",
       "      <td>2011</td>\n",
       "      <td>1</td>\n",
       "      <td>1</td>\n",
       "      <td>1</td>\n",
       "      <td>5</td>\n",
       "      <td>0</td>\n",
       "      <td>False</td>\n",
       "    </tr>\n",
       "    <tr>\n",
       "      <th>1</th>\n",
       "      <td>2011-01-01 01:00:00</td>\n",
       "      <td>30</td>\n",
       "      <td>8</td>\n",
       "      <td>38</td>\n",
       "      <td>2011</td>\n",
       "      <td>1</td>\n",
       "      <td>1</td>\n",
       "      <td>1</td>\n",
       "      <td>5</td>\n",
       "      <td>1</td>\n",
       "      <td>False</td>\n",
       "    </tr>\n",
       "    <tr>\n",
       "      <th>2</th>\n",
       "      <td>2011-01-01 02:00:00</td>\n",
       "      <td>26</td>\n",
       "      <td>5</td>\n",
       "      <td>31</td>\n",
       "      <td>2011</td>\n",
       "      <td>1</td>\n",
       "      <td>1</td>\n",
       "      <td>1</td>\n",
       "      <td>5</td>\n",
       "      <td>2</td>\n",
       "      <td>False</td>\n",
       "    </tr>\n",
       "    <tr>\n",
       "      <th>3</th>\n",
       "      <td>2011-01-01 03:00:00</td>\n",
       "      <td>9</td>\n",
       "      <td>3</td>\n",
       "      <td>12</td>\n",
       "      <td>2011</td>\n",
       "      <td>1</td>\n",
       "      <td>1</td>\n",
       "      <td>1</td>\n",
       "      <td>5</td>\n",
       "      <td>3</td>\n",
       "      <td>False</td>\n",
       "    </tr>\n",
       "    <tr>\n",
       "      <th>4</th>\n",
       "      <td>2011-01-01 04:00:00</td>\n",
       "      <td>1</td>\n",
       "      <td>0</td>\n",
       "      <td>1</td>\n",
       "      <td>2011</td>\n",
       "      <td>1</td>\n",
       "      <td>1</td>\n",
       "      <td>1</td>\n",
       "      <td>5</td>\n",
       "      <td>4</td>\n",
       "      <td>False</td>\n",
       "    </tr>\n",
       "  </tbody>\n",
       "</table>\n",
       "</div>"
      ],
      "text/plain": [
       "           Start date  Registered  Casual  Total  Year  Quarter  Month  Date  \\\n",
       "0 2011-01-01 00:00:00          13       3     16  2011        1      1     1   \n",
       "1 2011-01-01 01:00:00          30       8     38  2011        1      1     1   \n",
       "2 2011-01-01 02:00:00          26       5     31  2011        1      1     1   \n",
       "3 2011-01-01 03:00:00           9       3     12  2011        1      1     1   \n",
       "4 2011-01-01 04:00:00           1       0      1  2011        1      1     1   \n",
       "\n",
       "   Day_of_Week  Hour  Weekend  \n",
       "0            5     0    False  \n",
       "1            5     1    False  \n",
       "2            5     2    False  \n",
       "3            5     3    False  \n",
       "4            5     4    False  "
      ]
     },
     "execution_count": 12,
     "metadata": {},
     "output_type": "execute_result"
    }
   ],
   "source": [
    "# The weekend is boolean and shows as true or false. So that needs to be converted to integer\n",
    "df_user_count.head()"
   ]
  },
  {
   "cell_type": "code",
   "execution_count": 13,
   "metadata": {},
   "outputs": [],
   "source": [
    "# Converting Weekend from True or False to 1 or 0\n",
    "\n",
    "df_user_count[\"Weekend\"] = df_user_count[\"Weekend\"].astype(int)"
   ]
  },
  {
   "cell_type": "code",
   "execution_count": 14,
   "metadata": {},
   "outputs": [
    {
     "data": {
      "text/html": [
       "<div>\n",
       "<style scoped>\n",
       "    .dataframe tbody tr th:only-of-type {\n",
       "        vertical-align: middle;\n",
       "    }\n",
       "\n",
       "    .dataframe tbody tr th {\n",
       "        vertical-align: top;\n",
       "    }\n",
       "\n",
       "    .dataframe thead th {\n",
       "        text-align: right;\n",
       "    }\n",
       "</style>\n",
       "<table border=\"1\" class=\"dataframe\">\n",
       "  <thead>\n",
       "    <tr style=\"text-align: right;\">\n",
       "      <th></th>\n",
       "      <th>Registered</th>\n",
       "      <th>Casual</th>\n",
       "      <th>Total</th>\n",
       "      <th>Year</th>\n",
       "      <th>Quarter</th>\n",
       "      <th>Month</th>\n",
       "      <th>Date</th>\n",
       "      <th>Day_of_Week</th>\n",
       "      <th>Hour</th>\n",
       "      <th>Weekend</th>\n",
       "    </tr>\n",
       "  </thead>\n",
       "  <tbody>\n",
       "    <tr>\n",
       "      <th>0</th>\n",
       "      <td>13</td>\n",
       "      <td>3</td>\n",
       "      <td>16</td>\n",
       "      <td>2011</td>\n",
       "      <td>1</td>\n",
       "      <td>1</td>\n",
       "      <td>1</td>\n",
       "      <td>5</td>\n",
       "      <td>0</td>\n",
       "      <td>0</td>\n",
       "    </tr>\n",
       "    <tr>\n",
       "      <th>1</th>\n",
       "      <td>30</td>\n",
       "      <td>8</td>\n",
       "      <td>38</td>\n",
       "      <td>2011</td>\n",
       "      <td>1</td>\n",
       "      <td>1</td>\n",
       "      <td>1</td>\n",
       "      <td>5</td>\n",
       "      <td>1</td>\n",
       "      <td>0</td>\n",
       "    </tr>\n",
       "    <tr>\n",
       "      <th>2</th>\n",
       "      <td>26</td>\n",
       "      <td>5</td>\n",
       "      <td>31</td>\n",
       "      <td>2011</td>\n",
       "      <td>1</td>\n",
       "      <td>1</td>\n",
       "      <td>1</td>\n",
       "      <td>5</td>\n",
       "      <td>2</td>\n",
       "      <td>0</td>\n",
       "    </tr>\n",
       "    <tr>\n",
       "      <th>3</th>\n",
       "      <td>9</td>\n",
       "      <td>3</td>\n",
       "      <td>12</td>\n",
       "      <td>2011</td>\n",
       "      <td>1</td>\n",
       "      <td>1</td>\n",
       "      <td>1</td>\n",
       "      <td>5</td>\n",
       "      <td>3</td>\n",
       "      <td>0</td>\n",
       "    </tr>\n",
       "    <tr>\n",
       "      <th>4</th>\n",
       "      <td>1</td>\n",
       "      <td>0</td>\n",
       "      <td>1</td>\n",
       "      <td>2011</td>\n",
       "      <td>1</td>\n",
       "      <td>1</td>\n",
       "      <td>1</td>\n",
       "      <td>5</td>\n",
       "      <td>4</td>\n",
       "      <td>0</td>\n",
       "    </tr>\n",
       "  </tbody>\n",
       "</table>\n",
       "</div>"
      ],
      "text/plain": [
       "   Registered  Casual  Total  Year  Quarter  Month  Date  Day_of_Week  Hour  \\\n",
       "0          13       3     16  2011        1      1     1            5     0   \n",
       "1          30       8     38  2011        1      1     1            5     1   \n",
       "2          26       5     31  2011        1      1     1            5     2   \n",
       "3           9       3     12  2011        1      1     1            5     3   \n",
       "4           1       0      1  2011        1      1     1            5     4   \n",
       "\n",
       "   Weekend  \n",
       "0        0  \n",
       "1        0  \n",
       "2        0  \n",
       "3        0  \n",
       "4        0  "
      ]
     },
     "execution_count": 14,
     "metadata": {},
     "output_type": "execute_result"
    }
   ],
   "source": [
    "# Now we can safely drop the Start Date column since we've extracted everything we can regarding time. \n",
    "df_user_count = df_user_count[[\"Registered\", \"Casual\", \"Total\", \"Year\", \"Quarter\", \"Month\", \"Date\", \"Day_of_Week\", \"Hour\", \"Weekend\"]]\n",
    "df_user_count.head()"
   ]
  },
  {
   "cell_type": "markdown",
   "metadata": {},
   "source": [
    "# Now we can start with the Machine Learning model."
   ]
  },
  {
   "cell_type": "code",
   "execution_count": 19,
   "metadata": {},
   "outputs": [],
   "source": [
    "# split the data here\n",
    "X_data = df_user_count[[\"Month\",\"Day_of_Week\"]]\n",
    "y_data = df_user_count[[\"Total\"]]"
   ]
  },
  {
   "cell_type": "code",
   "execution_count": 20,
   "metadata": {},
   "outputs": [
    {
     "data": {
      "text/plain": [
       "(      Month  Day_of_Week\n",
       " 8415     12            5\n",
       " 5049      7            5\n",
       " 8395     12            4\n",
       " 1535      3            5\n",
       " 5518      8            3\n",
       " ...     ...          ...\n",
       " 5734      8            5\n",
       " 5191      8            4\n",
       " 5390      8            5\n",
       " 860       2            5\n",
       " 7270     10            6\n",
       " \n",
       " [7008 rows x 2 columns],\n",
       "       Month  Day_of_Week\n",
       " 6056      9            5\n",
       " 5556      8            5\n",
       " 5990      9            2\n",
       " 7674     11            2\n",
       " 3319      5            3\n",
       " ...     ...          ...\n",
       " 8307     12            1\n",
       " 100       1            2\n",
       " 6605     10            0\n",
       " 1783      3            2\n",
       " 6013      9            3\n",
       " \n",
       " [1752 rows x 2 columns],\n",
       "       Total\n",
       " 8415    225\n",
       " 5049    174\n",
       " 8395    211\n",
       " 1535     44\n",
       " 5518    135\n",
       " ...     ...\n",
       " 5734      0\n",
       " 5191    266\n",
       " 5390    253\n",
       " 860      67\n",
       " 7270     71\n",
       " \n",
       " [7008 rows x 1 columns],\n",
       "       Total\n",
       " 6056    119\n",
       " 5556    403\n",
       " 5990     24\n",
       " 7674    188\n",
       " 3319    254\n",
       " ...     ...\n",
       " 8307      3\n",
       " 100       2\n",
       " 6605     21\n",
       " 1783    110\n",
       " 6013    125\n",
       " \n",
       " [1752 rows x 1 columns])"
      ]
     },
     "execution_count": 20,
     "metadata": {},
     "output_type": "execute_result"
    }
   ],
   "source": [
    "# train the linear regression model here.\n",
    "\n",
    "X_train, X_test, y_train, y_test = train_test_split(X_data,y_data,test_size=0.2, random_state=42)\n",
    "X_train, X_test, y_train, y_test\n"
   ]
  },
  {
   "cell_type": "code",
   "execution_count": 23,
   "metadata": {},
   "outputs": [
    {
     "data": {
      "text/html": [
       "<div>\n",
       "<style scoped>\n",
       "    .dataframe tbody tr th:only-of-type {\n",
       "        vertical-align: middle;\n",
       "    }\n",
       "\n",
       "    .dataframe tbody tr th {\n",
       "        vertical-align: top;\n",
       "    }\n",
       "\n",
       "    .dataframe thead th {\n",
       "        text-align: right;\n",
       "    }\n",
       "</style>\n",
       "<table border=\"1\" class=\"dataframe\">\n",
       "  <thead>\n",
       "    <tr style=\"text-align: right;\">\n",
       "      <th></th>\n",
       "      <th>Month</th>\n",
       "      <th>Day_of_Week</th>\n",
       "    </tr>\n",
       "  </thead>\n",
       "  <tbody>\n",
       "    <tr>\n",
       "      <th>6056</th>\n",
       "      <td>9</td>\n",
       "      <td>5</td>\n",
       "    </tr>\n",
       "    <tr>\n",
       "      <th>5556</th>\n",
       "      <td>8</td>\n",
       "      <td>5</td>\n",
       "    </tr>\n",
       "    <tr>\n",
       "      <th>5990</th>\n",
       "      <td>9</td>\n",
       "      <td>2</td>\n",
       "    </tr>\n",
       "    <tr>\n",
       "      <th>7674</th>\n",
       "      <td>11</td>\n",
       "      <td>2</td>\n",
       "    </tr>\n",
       "    <tr>\n",
       "      <th>3319</th>\n",
       "      <td>5</td>\n",
       "      <td>3</td>\n",
       "    </tr>\n",
       "    <tr>\n",
       "      <th>...</th>\n",
       "      <td>...</td>\n",
       "      <td>...</td>\n",
       "    </tr>\n",
       "    <tr>\n",
       "      <th>8307</th>\n",
       "      <td>12</td>\n",
       "      <td>1</td>\n",
       "    </tr>\n",
       "    <tr>\n",
       "      <th>100</th>\n",
       "      <td>1</td>\n",
       "      <td>2</td>\n",
       "    </tr>\n",
       "    <tr>\n",
       "      <th>6605</th>\n",
       "      <td>10</td>\n",
       "      <td>0</td>\n",
       "    </tr>\n",
       "    <tr>\n",
       "      <th>1783</th>\n",
       "      <td>3</td>\n",
       "      <td>2</td>\n",
       "    </tr>\n",
       "    <tr>\n",
       "      <th>6013</th>\n",
       "      <td>9</td>\n",
       "      <td>3</td>\n",
       "    </tr>\n",
       "  </tbody>\n",
       "</table>\n",
       "<p>1752 rows × 2 columns</p>\n",
       "</div>"
      ],
      "text/plain": [
       "      Month  Day_of_Week\n",
       "6056      9            5\n",
       "5556      8            5\n",
       "5990      9            2\n",
       "7674     11            2\n",
       "3319      5            3\n",
       "...     ...          ...\n",
       "8307     12            1\n",
       "100       1            2\n",
       "6605     10            0\n",
       "1783      3            2\n",
       "6013      9            3\n",
       "\n",
       "[1752 rows x 2 columns]"
      ]
     },
     "execution_count": 23,
     "metadata": {},
     "output_type": "execute_result"
    }
   ],
   "source": [
    "X_test"
   ]
  },
  {
   "cell_type": "code",
   "execution_count": 33,
   "metadata": {},
   "outputs": [
    {
     "ename": "TypeError",
     "evalue": "fit() missing 1 required positional argument: 'y'",
     "output_type": "error",
     "traceback": [
      "\u001b[0;31m---------------------------------------------------------------------------\u001b[0m",
      "\u001b[0;31mTypeError\u001b[0m                                 Traceback (most recent call last)",
      "\u001b[1;32m/Users/monicavillarfuentes/codeacademy/Machine learning/Bike project ML/bike sprint 2 ML.ipynb Cell 19\u001b[0m in \u001b[0;36m<cell line: 1>\u001b[0;34m()\u001b[0m\n\u001b[0;32m----> <a href='vscode-notebook-cell:/Users/monicavillarfuentes/codeacademy/Machine%20learning/Bike%20project%20ML/bike%20sprint%202%20ML.ipynb#X45sZmlsZQ%3D%3D?line=0'>1</a>\u001b[0m lr\u001b[39m.\u001b[39;49mfit(X_train, y_train)\n",
      "\u001b[0;31mTypeError\u001b[0m: fit() missing 1 required positional argument: 'y'"
     ]
    }
   ],
   "source": [
    "lr.fit(X_train, y_train)"
   ]
  },
  {
   "cell_type": "code",
   "execution_count": 21,
   "metadata": {},
   "outputs": [],
   "source": [
    "# predict the results here\n",
    "\n",
    "# data normalisation with sklearn\n",
    "from sklearn.preprocessing import MinMaxScaler\n",
    "\n",
    "# fit scaler on training data\n",
    "norm = MinMaxScaler().fit(X_train)\n",
    "\n",
    "# transform training data\n",
    "X_train_norm = norm.transform(X_train)\n",
    "\n",
    "# transform testing data\n",
    "X_test_norm = norm.transform(X_test)\n"
   ]
  },
  {
   "cell_type": "code",
   "execution_count": 22,
   "metadata": {},
   "outputs": [
    {
     "ename": "TypeError",
     "evalue": "predict() missing 1 required positional argument: 'X'",
     "output_type": "error",
     "traceback": [
      "\u001b[0;31m---------------------------------------------------------------------------\u001b[0m",
      "\u001b[0;31mTypeError\u001b[0m                                 Traceback (most recent call last)",
      "\u001b[1;32m/Users/monicavillarfuentes/codeacademy/Machine learning/Bike project ML/bike sprint 2 ML.ipynb Cell 19\u001b[0m in \u001b[0;36m<cell line: 1>\u001b[0;34m()\u001b[0m\n\u001b[0;32m----> <a href='vscode-notebook-cell:/Users/monicavillarfuentes/codeacademy/Machine%20learning/Bike%20project%20ML/bike%20sprint%202%20ML.ipynb#X24sZmlsZQ%3D%3D?line=0'>1</a>\u001b[0m pred_lr \u001b[39m=\u001b[39m lr\u001b[39m.\u001b[39;49mpredict(X_test)\n",
      "\u001b[0;31mTypeError\u001b[0m: predict() missing 1 required positional argument: 'X'"
     ]
    }
   ],
   "source": [
    "pred_lr = lr.predict(X_test)"
   ]
  },
  {
   "cell_type": "code",
   "execution_count": null,
   "metadata": {},
   "outputs": [],
   "source": [
    "# evaluate the model here.\n",
    "\n"
   ]
  },
  {
   "cell_type": "code",
   "execution_count": null,
   "metadata": {},
   "outputs": [],
   "source": [
    "#display(x_data.head())\n",
    "#display(y_data.head())"
   ]
  },
  {
   "cell_type": "markdown",
   "metadata": {},
   "source": [
    "# Split Data "
   ]
  },
  {
   "cell_type": "code",
   "execution_count": null,
   "metadata": {},
   "outputs": [],
   "source": [
    "#bike_station.isnull().any()"
   ]
  },
  {
   "cell_type": "code",
   "execution_count": 25,
   "metadata": {},
   "outputs": [],
   "source": [
    "reg = lr().fit(X_train, y_train)"
   ]
  },
  {
   "cell_type": "code",
   "execution_count": 26,
   "metadata": {},
   "outputs": [
    {
     "data": {
      "text/plain": [
       "array([[157.480077  ],\n",
       "       [150.06002592],\n",
       "       [157.96693619],\n",
       "       ...,\n",
       "       [165.71156006],\n",
       "       [113.44662969],\n",
       "       [157.80464979]])"
      ]
     },
     "execution_count": 26,
     "metadata": {},
     "output_type": "execute_result"
    }
   ],
   "source": [
    "y_predicted = reg.predict(X_test)\n",
    "y_predicted"
   ]
  },
  {
   "cell_type": "code",
   "execution_count": 27,
   "metadata": {},
   "outputs": [
    {
     "name": "stderr",
     "output_type": "stream",
     "text": [
      "/Users/monicavillarfuentes/opt/anaconda3/lib/python3.9/site-packages/sklearn/base.py:450: UserWarning: X does not have valid feature names, but LinearRegression was fitted with feature names\n",
      "  warnings.warn(\n"
     ]
    },
    {
     "ename": "ValueError",
     "evalue": "X has 1 features, but LinearRegression is expecting 2 features as input.",
     "output_type": "error",
     "traceback": [
      "\u001b[0;31m---------------------------------------------------------------------------\u001b[0m",
      "\u001b[0;31mValueError\u001b[0m                                Traceback (most recent call last)",
      "\u001b[1;32m/Users/monicavillarfuentes/codeacademy/Machine learning/Bike project ML/bike sprint 2 ML.ipynb Cell 28\u001b[0m in \u001b[0;36m<cell line: 1>\u001b[0;34m()\u001b[0m\n\u001b[0;32m----> <a href='vscode-notebook-cell:/Users/monicavillarfuentes/codeacademy/Machine%20learning/Bike%20project%20ML/bike%20sprint%202%20ML.ipynb#X35sZmlsZQ%3D%3D?line=0'>1</a>\u001b[0m reg\u001b[39m.\u001b[39;49mscore(y_predicted, y_test)\n",
      "File \u001b[0;32m~/opt/anaconda3/lib/python3.9/site-packages/sklearn/base.py:705\u001b[0m, in \u001b[0;36mRegressorMixin.score\u001b[0;34m(self, X, y, sample_weight)\u001b[0m\n\u001b[1;32m    663\u001b[0m \u001b[39m\"\"\"Return the coefficient of determination of the prediction.\u001b[39;00m\n\u001b[1;32m    664\u001b[0m \n\u001b[1;32m    665\u001b[0m \u001b[39mThe coefficient of determination :math:`R^2` is defined as\u001b[39;00m\n\u001b[0;32m   (...)\u001b[0m\n\u001b[1;32m    700\u001b[0m \u001b[39m:class:`~sklearn.multioutput.MultiOutputRegressor`).\u001b[39;00m\n\u001b[1;32m    701\u001b[0m \u001b[39m\"\"\"\u001b[39;00m\n\u001b[1;32m    703\u001b[0m \u001b[39mfrom\u001b[39;00m \u001b[39m.\u001b[39;00m\u001b[39mmetrics\u001b[39;00m \u001b[39mimport\u001b[39;00m r2_score\n\u001b[0;32m--> 705\u001b[0m y_pred \u001b[39m=\u001b[39m \u001b[39mself\u001b[39;49m\u001b[39m.\u001b[39;49mpredict(X)\n\u001b[1;32m    706\u001b[0m \u001b[39mreturn\u001b[39;00m r2_score(y, y_pred, sample_weight\u001b[39m=\u001b[39msample_weight)\n",
      "File \u001b[0;32m~/opt/anaconda3/lib/python3.9/site-packages/sklearn/linear_model/_base.py:362\u001b[0m, in \u001b[0;36mLinearModel.predict\u001b[0;34m(self, X)\u001b[0m\n\u001b[1;32m    348\u001b[0m \u001b[39mdef\u001b[39;00m \u001b[39mpredict\u001b[39m(\u001b[39mself\u001b[39m, X):\n\u001b[1;32m    349\u001b[0m     \u001b[39m\"\"\"\u001b[39;00m\n\u001b[1;32m    350\u001b[0m \u001b[39m    Predict using the linear model.\u001b[39;00m\n\u001b[1;32m    351\u001b[0m \n\u001b[0;32m   (...)\u001b[0m\n\u001b[1;32m    360\u001b[0m \u001b[39m        Returns predicted values.\u001b[39;00m\n\u001b[1;32m    361\u001b[0m \u001b[39m    \"\"\"\u001b[39;00m\n\u001b[0;32m--> 362\u001b[0m     \u001b[39mreturn\u001b[39;00m \u001b[39mself\u001b[39;49m\u001b[39m.\u001b[39;49m_decision_function(X)\n",
      "File \u001b[0;32m~/opt/anaconda3/lib/python3.9/site-packages/sklearn/linear_model/_base.py:345\u001b[0m, in \u001b[0;36mLinearModel._decision_function\u001b[0;34m(self, X)\u001b[0m\n\u001b[1;32m    342\u001b[0m \u001b[39mdef\u001b[39;00m \u001b[39m_decision_function\u001b[39m(\u001b[39mself\u001b[39m, X):\n\u001b[1;32m    343\u001b[0m     check_is_fitted(\u001b[39mself\u001b[39m)\n\u001b[0;32m--> 345\u001b[0m     X \u001b[39m=\u001b[39m \u001b[39mself\u001b[39;49m\u001b[39m.\u001b[39;49m_validate_data(X, accept_sparse\u001b[39m=\u001b[39;49m[\u001b[39m\"\u001b[39;49m\u001b[39mcsr\u001b[39;49m\u001b[39m\"\u001b[39;49m, \u001b[39m\"\u001b[39;49m\u001b[39mcsc\u001b[39;49m\u001b[39m\"\u001b[39;49m, \u001b[39m\"\u001b[39;49m\u001b[39mcoo\u001b[39;49m\u001b[39m\"\u001b[39;49m], reset\u001b[39m=\u001b[39;49m\u001b[39mFalse\u001b[39;49;00m)\n\u001b[1;32m    346\u001b[0m     \u001b[39mreturn\u001b[39;00m safe_sparse_dot(X, \u001b[39mself\u001b[39m\u001b[39m.\u001b[39mcoef_\u001b[39m.\u001b[39mT, dense_output\u001b[39m=\u001b[39m\u001b[39mTrue\u001b[39;00m) \u001b[39m+\u001b[39m \u001b[39mself\u001b[39m\u001b[39m.\u001b[39mintercept_\n",
      "File \u001b[0;32m~/opt/anaconda3/lib/python3.9/site-packages/sklearn/base.py:585\u001b[0m, in \u001b[0;36mBaseEstimator._validate_data\u001b[0;34m(self, X, y, reset, validate_separately, **check_params)\u001b[0m\n\u001b[1;32m    582\u001b[0m     out \u001b[39m=\u001b[39m X, y\n\u001b[1;32m    584\u001b[0m \u001b[39mif\u001b[39;00m \u001b[39mnot\u001b[39;00m no_val_X \u001b[39mand\u001b[39;00m check_params\u001b[39m.\u001b[39mget(\u001b[39m\"\u001b[39m\u001b[39mensure_2d\u001b[39m\u001b[39m\"\u001b[39m, \u001b[39mTrue\u001b[39;00m):\n\u001b[0;32m--> 585\u001b[0m     \u001b[39mself\u001b[39;49m\u001b[39m.\u001b[39;49m_check_n_features(X, reset\u001b[39m=\u001b[39;49mreset)\n\u001b[1;32m    587\u001b[0m \u001b[39mreturn\u001b[39;00m out\n",
      "File \u001b[0;32m~/opt/anaconda3/lib/python3.9/site-packages/sklearn/base.py:400\u001b[0m, in \u001b[0;36mBaseEstimator._check_n_features\u001b[0;34m(self, X, reset)\u001b[0m\n\u001b[1;32m    397\u001b[0m     \u001b[39mreturn\u001b[39;00m\n\u001b[1;32m    399\u001b[0m \u001b[39mif\u001b[39;00m n_features \u001b[39m!=\u001b[39m \u001b[39mself\u001b[39m\u001b[39m.\u001b[39mn_features_in_:\n\u001b[0;32m--> 400\u001b[0m     \u001b[39mraise\u001b[39;00m \u001b[39mValueError\u001b[39;00m(\n\u001b[1;32m    401\u001b[0m         \u001b[39mf\u001b[39m\u001b[39m\"\u001b[39m\u001b[39mX has \u001b[39m\u001b[39m{\u001b[39;00mn_features\u001b[39m}\u001b[39;00m\u001b[39m features, but \u001b[39m\u001b[39m{\u001b[39;00m\u001b[39mself\u001b[39m\u001b[39m.\u001b[39m\u001b[39m__class__\u001b[39m\u001b[39m.\u001b[39m\u001b[39m__name__\u001b[39m\u001b[39m}\u001b[39;00m\u001b[39m \u001b[39m\u001b[39m\"\u001b[39m\n\u001b[1;32m    402\u001b[0m         \u001b[39mf\u001b[39m\u001b[39m\"\u001b[39m\u001b[39mis expecting \u001b[39m\u001b[39m{\u001b[39;00m\u001b[39mself\u001b[39m\u001b[39m.\u001b[39mn_features_in_\u001b[39m}\u001b[39;00m\u001b[39m features as input.\u001b[39m\u001b[39m\"\u001b[39m\n\u001b[1;32m    403\u001b[0m     )\n",
      "\u001b[0;31mValueError\u001b[0m: X has 1 features, but LinearRegression is expecting 2 features as input."
     ]
    }
   ],
   "source": [
    "reg.score(y_predicted, y_test)"
   ]
  },
  {
   "cell_type": "code",
   "execution_count": 28,
   "metadata": {},
   "outputs": [
    {
     "data": {
      "text/plain": [
       "array([[157.480077  ],\n",
       "       [150.06002592],\n",
       "       [157.96693619],\n",
       "       ...,\n",
       "       [165.71156006],\n",
       "       [113.44662969],\n",
       "       [157.80464979]])"
      ]
     },
     "metadata": {},
     "output_type": "display_data"
    },
    {
     "data": {
      "text/html": [
       "<div>\n",
       "<style scoped>\n",
       "    .dataframe tbody tr th:only-of-type {\n",
       "        vertical-align: middle;\n",
       "    }\n",
       "\n",
       "    .dataframe tbody tr th {\n",
       "        vertical-align: top;\n",
       "    }\n",
       "\n",
       "    .dataframe thead th {\n",
       "        text-align: right;\n",
       "    }\n",
       "</style>\n",
       "<table border=\"1\" class=\"dataframe\">\n",
       "  <thead>\n",
       "    <tr style=\"text-align: right;\">\n",
       "      <th></th>\n",
       "      <th>Total</th>\n",
       "    </tr>\n",
       "  </thead>\n",
       "  <tbody>\n",
       "    <tr>\n",
       "      <th>6056</th>\n",
       "      <td>119</td>\n",
       "    </tr>\n",
       "    <tr>\n",
       "      <th>5556</th>\n",
       "      <td>403</td>\n",
       "    </tr>\n",
       "    <tr>\n",
       "      <th>5990</th>\n",
       "      <td>24</td>\n",
       "    </tr>\n",
       "    <tr>\n",
       "      <th>7674</th>\n",
       "      <td>188</td>\n",
       "    </tr>\n",
       "    <tr>\n",
       "      <th>3319</th>\n",
       "      <td>254</td>\n",
       "    </tr>\n",
       "  </tbody>\n",
       "</table>\n",
       "</div>"
      ],
      "text/plain": [
       "      Total\n",
       "6056    119\n",
       "5556    403\n",
       "5990     24\n",
       "7674    188\n",
       "3319    254"
      ]
     },
     "metadata": {},
     "output_type": "display_data"
    }
   ],
   "source": [
    "display(y_predicted)\n",
    "display(y_test.head())\n"
   ]
  },
  {
   "cell_type": "code",
   "execution_count": 29,
   "metadata": {},
   "outputs": [
    {
     "ename": "AttributeError",
     "evalue": "'LinearRegression' object has no attribute 'r2_score'",
     "output_type": "error",
     "traceback": [
      "\u001b[0;31m---------------------------------------------------------------------------\u001b[0m",
      "\u001b[0;31mAttributeError\u001b[0m                            Traceback (most recent call last)",
      "\u001b[1;32m/Users/monicavillarfuentes/codeacademy/Machine learning/Bike project ML/bike sprint 2 ML.ipynb Cell 30\u001b[0m in \u001b[0;36m<cell line: 1>\u001b[0;34m()\u001b[0m\n\u001b[0;32m----> <a href='vscode-notebook-cell:/Users/monicavillarfuentes/codeacademy/Machine%20learning/Bike%20project%20ML/bike%20sprint%202%20ML.ipynb#X40sZmlsZQ%3D%3D?line=0'>1</a>\u001b[0m reg\u001b[39m.\u001b[39;49mr2_score(y_test, y_predicted)\n",
      "\u001b[0;31mAttributeError\u001b[0m: 'LinearRegression' object has no attribute 'r2_score'"
     ]
    }
   ],
   "source": [
    "reg.r2_score(y_test, y_predicted)"
   ]
  },
  {
   "cell_type": "code",
   "execution_count": 30,
   "metadata": {},
   "outputs": [
    {
     "data": {
      "text/plain": [
       "array([[ 7.42005108, -0.16228639]])"
      ]
     },
     "execution_count": 30,
     "metadata": {},
     "output_type": "execute_result"
    }
   ],
   "source": [
    "reg.coef_"
   ]
  },
  {
   "cell_type": "code",
   "execution_count": 31,
   "metadata": {},
   "outputs": [
    {
     "data": {
      "text/plain": [
       "array([91.51104923])"
      ]
     },
     "execution_count": 31,
     "metadata": {},
     "output_type": "execute_result"
    }
   ],
   "source": [
    "reg.intercept_"
   ]
  },
  {
   "cell_type": "code",
   "execution_count": 32,
   "metadata": {},
   "outputs": [],
   "source": [
    "#reg.predict #(np.array([[3, 5]])) ex."
   ]
  },
  {
   "cell_type": "markdown",
   "metadata": {},
   "source": [
    "W3 Schools"
   ]
  },
  {
   "cell_type": "code",
   "execution_count": 36,
   "metadata": {},
   "outputs": [
    {
     "ename": "ValueError",
     "evalue": "too many values to unpack (expected 4)",
     "output_type": "error",
     "traceback": [
      "\u001b[0;31m---------------------------------------------------------------------------\u001b[0m",
      "\u001b[0;31mValueError\u001b[0m                                Traceback (most recent call last)",
      "\u001b[1;32m/Users/monicavillarfuentes/codeacademy/Machine learning/Bike project ML/bike sprint 2 ML.ipynb Cell 35\u001b[0m in \u001b[0;36m<cell line: 7>\u001b[0;34m()\u001b[0m\n\u001b[1;32m      <a href='vscode-notebook-cell:/Users/monicavillarfuentes/codeacademy/Machine%20learning/Bike%20project%20ML/bike%20sprint%202%20ML.ipynb#X46sZmlsZQ%3D%3D?line=3'>4</a>\u001b[0m X_data \u001b[39m=\u001b[39m df_user_count[[\u001b[39m\"\u001b[39m\u001b[39mMonth\u001b[39m\u001b[39m\"\u001b[39m]]\n\u001b[1;32m      <a href='vscode-notebook-cell:/Users/monicavillarfuentes/codeacademy/Machine%20learning/Bike%20project%20ML/bike%20sprint%202%20ML.ipynb#X46sZmlsZQ%3D%3D?line=4'>5</a>\u001b[0m y_data \u001b[39m=\u001b[39m df_user_count[[\u001b[39m\"\u001b[39m\u001b[39mCasual\u001b[39m\u001b[39m\"\u001b[39m]]\n\u001b[0;32m----> <a href='vscode-notebook-cell:/Users/monicavillarfuentes/codeacademy/Machine%20learning/Bike%20project%20ML/bike%20sprint%202%20ML.ipynb#X46sZmlsZQ%3D%3D?line=6'>7</a>\u001b[0m slope, intercept, r, p, std_err \u001b[39m=\u001b[39m stats\u001b[39m.\u001b[39;49mlinregress(X_data, y_data)\n\u001b[1;32m      <a href='vscode-notebook-cell:/Users/monicavillarfuentes/codeacademy/Machine%20learning/Bike%20project%20ML/bike%20sprint%202%20ML.ipynb#X46sZmlsZQ%3D%3D?line=8'>9</a>\u001b[0m \u001b[39mdef\u001b[39;00m \u001b[39mmyfunc\u001b[39m(x):\n\u001b[1;32m     <a href='vscode-notebook-cell:/Users/monicavillarfuentes/codeacademy/Machine%20learning/Bike%20project%20ML/bike%20sprint%202%20ML.ipynb#X46sZmlsZQ%3D%3D?line=9'>10</a>\u001b[0m   \u001b[39mreturn\u001b[39;00m slope \u001b[39m*\u001b[39m x \u001b[39m+\u001b[39m intercept\n",
      "File \u001b[0;32m~/opt/anaconda3/lib/python3.9/site-packages/scipy/stats/_stats_mstats_common.py:155\u001b[0m, in \u001b[0;36mlinregress\u001b[0;34m(x, y, alternative)\u001b[0m\n\u001b[1;32m    150\u001b[0m ymean \u001b[39m=\u001b[39m np\u001b[39m.\u001b[39mmean(y, \u001b[39mNone\u001b[39;00m)\n\u001b[1;32m    152\u001b[0m \u001b[39m# Average sums of square differences from the mean\u001b[39;00m\n\u001b[1;32m    153\u001b[0m \u001b[39m#   ssxm = mean( (x-mean(x))^2 )\u001b[39;00m\n\u001b[1;32m    154\u001b[0m \u001b[39m#   ssxym = mean( (x-mean(x)) * (y-mean(y)) )\u001b[39;00m\n\u001b[0;32m--> 155\u001b[0m ssxm, ssxym, _, ssym \u001b[39m=\u001b[39m np\u001b[39m.\u001b[39mcov(x, y, bias\u001b[39m=\u001b[39m\u001b[39m1\u001b[39m)\u001b[39m.\u001b[39mflat\n\u001b[1;32m    157\u001b[0m \u001b[39m# R-value\u001b[39;00m\n\u001b[1;32m    158\u001b[0m \u001b[39m#   r = ssxym / sqrt( ssxm * ssym )\u001b[39;00m\n\u001b[1;32m    159\u001b[0m \u001b[39mif\u001b[39;00m ssxm \u001b[39m==\u001b[39m \u001b[39m0.0\u001b[39m \u001b[39mor\u001b[39;00m ssym \u001b[39m==\u001b[39m \u001b[39m0.0\u001b[39m:\n\u001b[1;32m    160\u001b[0m     \u001b[39m# If the denominator was going to be 0\u001b[39;00m\n",
      "\u001b[0;31mValueError\u001b[0m: too many values to unpack (expected 4)"
     ]
    }
   ],
   "source": [
    "import matplotlib.pyplot as plt\n",
    "from scipy import stats\n",
    "\n",
    "X_data = df_user_count[[\"Month\"]]\n",
    "y_data = df_user_count[[\"Casual\"]]\n",
    "\n",
    "slope, intercept, r, p, std_err = stats.linregress(X_data, y_data)\n",
    "\n",
    "def myfunc(x):\n",
    "  return slope * x + intercept\n",
    "\n",
    "mymodel = list(map(myfunc, X_data))\n",
    "\n",
    "plt.scatter(X_data, y_data)\n",
    "plt.plot(X_data, mymodel)\n",
    "plt.show() "
   ]
  },
  {
   "cell_type": "markdown",
   "metadata": {},
   "source": [
    "Real Python"
   ]
  },
  {
   "cell_type": "code",
   "execution_count": 50,
   "metadata": {},
   "outputs": [],
   "source": [
    "import numpy as np\n",
    "from sklearn.linear_model import LinearRegression as lr\n",
    "\n",
    "x = df_user_count[[\"Month\", \"Day_of_Week\", \"Hour\"]]\n",
    "y = df_user_count[[\"Casual\"]]\n",
    "\n",
    "x, y = np.array(x), np.array(y)\n"
   ]
  },
  {
   "cell_type": "code",
   "execution_count": 51,
   "metadata": {},
   "outputs": [],
   "source": [
    "model = lr().fit(x, y)"
   ]
  },
  {
   "cell_type": "code",
   "execution_count": 52,
   "metadata": {},
   "outputs": [
    {
     "name": "stdout",
     "output_type": "stream",
     "text": [
      "coefficient of determination: 0.16262331451057388\n",
      "intercept: [-12.96406572]\n",
      "coefficients: [[1.13774278 4.64172047 1.71991781]]\n"
     ]
    }
   ],
   "source": [
    "r_sq = model.score(x, y)\n",
    "print(f\"coefficient of determination: {r_sq}\")\n",
    "\n",
    "#coefficient of determination: 0.010320287681022444\n",
    "\n",
    "\n",
    "print(f\"intercept: {model.intercept_}\")\n",
    "#intercept: [20.75198534]\n",
    "\n",
    "print(f\"coefficients: {model.coef_}\")\n",
    "#coefficients: [[1.13982662]]\n"
   ]
  },
  {
   "cell_type": "code",
   "execution_count": 55,
   "metadata": {},
   "outputs": [
    {
     "name": "stdout",
     "output_type": "stream",
     "text": [
      "predicted response:\n",
      "[[11.38227942]\n",
      " [13.10219723]\n",
      " [14.82211504]\n",
      " ...\n",
      " [60.01572395]\n",
      " [61.73564175]\n",
      " [63.45555956]]\n"
     ]
    }
   ],
   "source": [
    "y_pred = model.predict(x)\n",
    "print(f\"predicted response:\\n{y_pred}\")\n"
   ]
  },
  {
   "cell_type": "markdown",
   "metadata": {},
   "source": [
    "Advanced stuff"
   ]
  },
  {
   "cell_type": "code",
   "execution_count": 56,
   "metadata": {},
   "outputs": [],
   "source": [
    "import statsmodels.api as sm"
   ]
  },
  {
   "cell_type": "code",
   "execution_count": 57,
   "metadata": {},
   "outputs": [],
   "source": [
    "x = sm.add_constant(x)"
   ]
  },
  {
   "cell_type": "code",
   "execution_count": 58,
   "metadata": {},
   "outputs": [],
   "source": [
    "model2 = sm.OLS(y, x)"
   ]
  },
  {
   "cell_type": "code",
   "execution_count": 59,
   "metadata": {},
   "outputs": [],
   "source": [
    "results = model2.fit()"
   ]
  },
  {
   "cell_type": "code",
   "execution_count": 60,
   "metadata": {},
   "outputs": [
    {
     "name": "stdout",
     "output_type": "stream",
     "text": [
      "                            OLS Regression Results                            \n",
      "==============================================================================\n",
      "Dep. Variable:                      y   R-squared:                       0.163\n",
      "Model:                            OLS   Adj. R-squared:                  0.162\n",
      "Method:                 Least Squares   F-statistic:                     566.8\n",
      "Date:                Tue, 15 Nov 2022   Prob (F-statistic):               0.00\n",
      "Time:                        20:54:26   Log-Likelihood:                -43674.\n",
      "No. Observations:                8760   AIC:                         8.736e+04\n",
      "Df Residuals:                    8756   BIC:                         8.738e+04\n",
      "Df Model:                           3                                         \n",
      "Covariance Type:            nonrobust                                         \n",
      "==============================================================================\n",
      "                 coef    std err          t      P>|t|      [0.025      0.975]\n",
      "------------------------------------------------------------------------------\n",
      "const        -12.9641      1.172    -11.062      0.000     -15.261     -10.667\n",
      "x1             1.1377      0.110     10.369      0.000       0.923       1.353\n",
      "x2             4.6417      0.189     24.539      0.000       4.271       5.013\n",
      "x3             1.7199      0.055     31.470      0.000       1.613       1.827\n",
      "==============================================================================\n",
      "Omnibus:                     3934.594   Durbin-Watson:                   0.209\n",
      "Prob(Omnibus):                  0.000   Jarque-Bera (JB):            22041.645\n",
      "Skew:                           2.120   Prob(JB):                         0.00\n",
      "Kurtosis:                       9.513   Cond. No.                         46.5\n",
      "==============================================================================\n",
      "\n",
      "Notes:\n",
      "[1] Standard Errors assume that the covariance matrix of the errors is correctly specified.\n"
     ]
    }
   ],
   "source": [
    "print(results.summary())"
   ]
  },
  {
   "cell_type": "code",
   "execution_count": 61,
   "metadata": {},
   "outputs": [
    {
     "name": "stdout",
     "output_type": "stream",
     "text": [
      "coefficient of determination: 0.16262331451057366\n",
      "adjusted coefficient of determination: 0.16233641066675586\n",
      "regression coefficients: [-12.96406572   1.13774278   4.64172047   1.71991781]\n"
     ]
    }
   ],
   "source": [
    "print(f\"coefficient of determination: {results.rsquared}\")\n",
    "\n",
    "print(f\"adjusted coefficient of determination: {results.rsquared_adj}\")\n",
    "\n",
    "print(f\"regression coefficients: {results.params}\")\n"
   ]
  },
  {
   "cell_type": "code",
   "execution_count": 62,
   "metadata": {},
   "outputs": [
    {
     "name": "stdout",
     "output_type": "stream",
     "text": [
      "predicted response:\n",
      "[11.38227942 13.10219723 14.82211504 ... 60.01572395 61.73564175\n",
      " 63.45555956]\n",
      "predicted response:\n",
      "[11.38227942 13.10219723 14.82211504 ... 60.01572395 61.73564175\n",
      " 63.45555956]\n"
     ]
    }
   ],
   "source": [
    "print(f\"predicted response:\\n{results.fittedvalues}\")\n",
    "\n",
    "\n",
    "print(f\"predicted response:\\n{results.predict(x)}\")\n"
   ]
  },
  {
   "cell_type": "code",
   "execution_count": 63,
   "metadata": {},
   "outputs": [
    {
     "ename": "ValueError",
     "evalue": "shapes (5,3) and (4,) not aligned: 3 (dim 1) != 4 (dim 0)",
     "output_type": "error",
     "traceback": [
      "\u001b[0;31m---------------------------------------------------------------------------\u001b[0m",
      "\u001b[0;31mValueError\u001b[0m                                Traceback (most recent call last)",
      "\u001b[1;32m/Users/monicavillarfuentes/codeacademy/Machine learning/Bike project ML/bike sprint 2 ML.ipynb Cell 49\u001b[0m in \u001b[0;36m<cell line: 7>\u001b[0;34m()\u001b[0m\n\u001b[1;32m      <a href='vscode-notebook-cell:/Users/monicavillarfuentes/codeacademy/Machine%20learning/Bike%20project%20ML/bike%20sprint%202%20ML.ipynb#Y102sZmlsZQ%3D%3D?line=2'>3</a>\u001b[0m x_new \u001b[39m=\u001b[39m sm\u001b[39m.\u001b[39madd_constant(np\u001b[39m.\u001b[39marange(\u001b[39m10\u001b[39m)\u001b[39m.\u001b[39mreshape((\u001b[39m-\u001b[39m\u001b[39m1\u001b[39m, \u001b[39m2\u001b[39m)))\n\u001b[1;32m      <a href='vscode-notebook-cell:/Users/monicavillarfuentes/codeacademy/Machine%20learning/Bike%20project%20ML/bike%20sprint%202%20ML.ipynb#Y102sZmlsZQ%3D%3D?line=3'>4</a>\u001b[0m x_new\n\u001b[0;32m----> <a href='vscode-notebook-cell:/Users/monicavillarfuentes/codeacademy/Machine%20learning/Bike%20project%20ML/bike%20sprint%202%20ML.ipynb#Y102sZmlsZQ%3D%3D?line=6'>7</a>\u001b[0m y_new \u001b[39m=\u001b[39m results\u001b[39m.\u001b[39;49mpredict(x_new)\n\u001b[1;32m      <a href='vscode-notebook-cell:/Users/monicavillarfuentes/codeacademy/Machine%20learning/Bike%20project%20ML/bike%20sprint%202%20ML.ipynb#Y102sZmlsZQ%3D%3D?line=7'>8</a>\u001b[0m y_new\n",
      "File \u001b[0;32m~/opt/anaconda3/lib/python3.9/site-packages/statsmodels/base/model.py:1159\u001b[0m, in \u001b[0;36mResults.predict\u001b[0;34m(self, exog, transform, *args, **kwargs)\u001b[0m\n\u001b[1;32m   1156\u001b[0m         exog \u001b[39m=\u001b[39m exog[:, \u001b[39mNone\u001b[39;00m]\n\u001b[1;32m   1157\u001b[0m     exog \u001b[39m=\u001b[39m np\u001b[39m.\u001b[39matleast_2d(exog)  \u001b[39m# needed in count model shape[1]\u001b[39;00m\n\u001b[0;32m-> 1159\u001b[0m predict_results \u001b[39m=\u001b[39m \u001b[39mself\u001b[39;49m\u001b[39m.\u001b[39;49mmodel\u001b[39m.\u001b[39;49mpredict(\u001b[39mself\u001b[39;49m\u001b[39m.\u001b[39;49mparams, exog, \u001b[39m*\u001b[39;49margs,\n\u001b[1;32m   1160\u001b[0m                                      \u001b[39m*\u001b[39;49m\u001b[39m*\u001b[39;49mkwargs)\n\u001b[1;32m   1162\u001b[0m \u001b[39mif\u001b[39;00m exog_index \u001b[39mis\u001b[39;00m \u001b[39mnot\u001b[39;00m \u001b[39mNone\u001b[39;00m \u001b[39mand\u001b[39;00m \u001b[39mnot\u001b[39;00m \u001b[39mhasattr\u001b[39m(predict_results,\n\u001b[1;32m   1163\u001b[0m                                           \u001b[39m'\u001b[39m\u001b[39mpredicted_values\u001b[39m\u001b[39m'\u001b[39m):\n\u001b[1;32m   1164\u001b[0m     \u001b[39mif\u001b[39;00m predict_results\u001b[39m.\u001b[39mndim \u001b[39m==\u001b[39m \u001b[39m1\u001b[39m:\n",
      "File \u001b[0;32m~/opt/anaconda3/lib/python3.9/site-packages/statsmodels/regression/linear_model.py:381\u001b[0m, in \u001b[0;36mRegressionModel.predict\u001b[0;34m(self, params, exog)\u001b[0m\n\u001b[1;32m    378\u001b[0m \u001b[39mif\u001b[39;00m exog \u001b[39mis\u001b[39;00m \u001b[39mNone\u001b[39;00m:\n\u001b[1;32m    379\u001b[0m     exog \u001b[39m=\u001b[39m \u001b[39mself\u001b[39m\u001b[39m.\u001b[39mexog\n\u001b[0;32m--> 381\u001b[0m \u001b[39mreturn\u001b[39;00m np\u001b[39m.\u001b[39;49mdot(exog, params)\n",
      "File \u001b[0;32m<__array_function__ internals>:5\u001b[0m, in \u001b[0;36mdot\u001b[0;34m(*args, **kwargs)\u001b[0m\n",
      "\u001b[0;31mValueError\u001b[0m: shapes (5,3) and (4,) not aligned: 3 (dim 1) != 4 (dim 0)"
     ]
    }
   ],
   "source": [
    "#This is the predicted response for known inputs. If you want predictions with new regressors, you can also apply .predict() with new data as the argument:\n",
    "\n",
    "x_new = sm.add_constant(np.arange(10).reshape((-1, 2)))\n",
    "x_new\n",
    "\n",
    "\n",
    "y_new = results.predict(x_new)\n",
    "y_new\n",
    "\n",
    "#You can notice that the predicted results are the same as those obtained with scikit-learn for the same problem."
   ]
  }
 ],
 "metadata": {
  "kernelspec": {
   "display_name": "Python 3.9.12 ('base')",
   "language": "python",
   "name": "python3"
  },
  "language_info": {
   "codemirror_mode": {
    "name": "ipython",
    "version": 3
   },
   "file_extension": ".py",
   "mimetype": "text/x-python",
   "name": "python",
   "nbconvert_exporter": "python",
   "pygments_lexer": "ipython3",
   "version": "3.9.12"
  },
  "orig_nbformat": 4,
  "vscode": {
   "interpreter": {
    "hash": "53268d429fe8007277d58353424377c3c56a51408f44f169cee4649a7ccfd4de"
   }
  }
 },
 "nbformat": 4,
 "nbformat_minor": 2
}
