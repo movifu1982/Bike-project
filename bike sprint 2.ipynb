{
 "cells": [
  {
   "cell_type": "code",
   "execution_count": 122,
   "metadata": {},
   "outputs": [],
   "source": [
    "# data normalisation with sklearn\n",
    "from sklearn.preprocessing import MinMaxScaler\n",
    "from sklearn.preprocessing import OneHotEncoder\n",
    "from sklearn.preprocessing import LabelEncoder\n",
    "import numpy as np\n",
    "import pandas as pd\n",
    "import matplotlib.pyplot as plt\n",
    "%matplotlib inline\n",
    "from matplotlib.pylab import rcParams\n",
    "rcParams [\"figure.figsize\"] = 10,6\n",
    "import seaborn as sns\n",
    "from scipy import stats\n",
    "import math\n",
    "import datetime\n",
    "import urllib\n",
    "import zipfile\n",
    "import statsmodels.tsa.stattools as sts\n",
    "from statsmodels.tsa.seasonal import seasonal_decompose\n",
    "import plotly.express as px\n",
    "import glob\n",
    "\n",
    "from sklearn.feature_selection import RFE\n",
    "from sklearn.linear_model import LinearRegression as LR\n",
    "\n",
    "from sklearn.metrics import confusion_matrix\n",
    "from sklearn.metrics import accuracy_score\n",
    "from sklearn.metrics import classification_report\n",
    "from sklearn.preprocessing import StandardScaler\n"
   ]
  },
  {
   "cell_type": "code",
   "execution_count": 107,
   "metadata": {},
   "outputs": [],
   "source": [
    "bike_station = pd.read_csv('stations.csv')\n"
   ]
  },
  {
   "cell_type": "code",
   "execution_count": 108,
   "metadata": {},
   "outputs": [],
   "source": [
    "bike_station.loc[bike_station['Member type'] == \"Casual\", 'Member cat'] = \"1\"\n",
    "bike_station.loc[bike_station['Member type'] == \"Member\", 'Member cat'] = \"2\"\n",
    "bike_station.loc[bike_station['Member type'] == \"Unknown\", 'Member cat'] = \"1\""
   ]
  },
  {
   "cell_type": "code",
   "execution_count": 109,
   "metadata": {},
   "outputs": [],
   "source": [
    "x_data = bike_station[[\"Duration\", \"Start station number\", \"End station number\", \"Member cat\"]]\n",
    "y_data = bike_station[\"Member cat\"]\n",
    "\n",
    "#need to change member type. C=1,  M=2. Unknown are also 1."
   ]
  },
  {
   "cell_type": "code",
   "execution_count": 110,
   "metadata": {},
   "outputs": [
    {
     "data": {
      "text/plain": [
       "<bound method Series.info of 0          2\n",
       "1          1\n",
       "2          2\n",
       "3          2\n",
       "4          1\n",
       "          ..\n",
       "1226762    2\n",
       "1226763    2\n",
       "1226764    2\n",
       "1226765    2\n",
       "1226766    2\n",
       "Name: Member cat, Length: 1226767, dtype: object>"
      ]
     },
     "execution_count": 110,
     "metadata": {},
     "output_type": "execute_result"
    }
   ],
   "source": [
    "bike_station[\"Member cat\"].info\n"
   ]
  },
  {
   "cell_type": "code",
   "execution_count": 111,
   "metadata": {},
   "outputs": [
    {
     "data": {
      "text/plain": [
       "(        Duration  Start station number  End station number Member cat\n",
       " 0           3548                 31620               31620          2\n",
       " 1            346                 31105               31101          1\n",
       " 2            562                 31400               31104          2\n",
       " 3            434                 31111               31503          2\n",
       " 4            233                 31104               31106          1\n",
       " ...          ...                   ...                 ...        ...\n",
       " 858731       785                 31236               31225          2\n",
       " 858732       495                 31227               31604          2\n",
       " 858733       701                 31219               31109          2\n",
       " 858734       180                 31111               31101          2\n",
       " 858735      1079                 31219               31213          1\n",
       " \n",
       " [858736 rows x 4 columns],\n",
       "          Duration  Start station number  End station number Member cat\n",
       " 858736       1204                 31503               31237          2\n",
       " 858737       1202                 31503               31237          2\n",
       " 858738       2580                 31215               31215          1\n",
       " 858739       1049                 31219               31213          1\n",
       " 858740        841                 31203               31237          2\n",
       " ...           ...                   ...                 ...        ...\n",
       " 1226762       300                 31201               31214          2\n",
       " 1226763       387                 31223               31201          2\n",
       " 1226764       261                 31107               31602          2\n",
       " 1226765      2060                 31205               31222          2\n",
       " 1226766       468                 31221               31111          2\n",
       " \n",
       " [368031 rows x 4 columns],\n",
       " 0         2\n",
       " 1         1\n",
       " 2         2\n",
       " 3         2\n",
       " 4         1\n",
       "          ..\n",
       " 858731    2\n",
       " 858732    2\n",
       " 858733    2\n",
       " 858734    2\n",
       " 858735    1\n",
       " Name: Member cat, Length: 858736, dtype: object,\n",
       " 858736     2\n",
       " 858737     2\n",
       " 858738     1\n",
       " 858739     1\n",
       " 858740     2\n",
       "           ..\n",
       " 1226762    2\n",
       " 1226763    2\n",
       " 1226764    2\n",
       " 1226765    2\n",
       " 1226766    2\n",
       " Name: Member cat, Length: 368031, dtype: object)"
      ]
     },
     "execution_count": 111,
     "metadata": {},
     "output_type": "execute_result"
    }
   ],
   "source": [
    "from sklearn.model_selection import train_test_split\n",
    "\n",
    "x_train, x_test, y_train, y_test = train_test_split(x_data, y_data ,test_size = 0.3, shuffle=False)\n",
    "x_train, x_test, y_train, y_test"
   ]
  },
  {
   "cell_type": "code",
   "execution_count": 112,
   "metadata": {},
   "outputs": [],
   "source": [
    "X_train, X_test, y_train, y_test = train_test_split(x_data, y_data,test_size=0.2, random_state=42)"
   ]
  },
  {
   "cell_type": "code",
   "execution_count": 113,
   "metadata": {},
   "outputs": [],
   "source": [
    "# data normalisation with sklearn\n",
    "from sklearn.preprocessing import MinMaxScaler\n",
    "\n",
    "# fit scaler on training data\n",
    "norm = MinMaxScaler().fit(X_train)\n",
    "\n",
    "# transform training data\n",
    "X_train_norm = norm.transform(X_train)\n",
    "\n",
    "# transform testing data\n",
    "X_test_norm = norm.transform(X_test)"
   ]
  },
  {
   "cell_type": "code",
   "execution_count": 114,
   "metadata": {},
   "outputs": [
    {
     "data": {
      "text/plain": [
       "Duration                False\n",
       "Start date              False\n",
       "End date                False\n",
       "Start station number    False\n",
       "Start station           False\n",
       "End station number      False\n",
       "End station             False\n",
       "Bike number             False\n",
       "Member type             False\n",
       "Member cat              False\n",
       "dtype: bool"
      ]
     },
     "execution_count": 114,
     "metadata": {},
     "output_type": "execute_result"
    }
   ],
   "source": [
    "bike_station.isnull().any()\n",
    "\n",
    "#I need to drop the Unknown ones..."
   ]
  },
  {
   "cell_type": "code",
   "execution_count": 142,
   "metadata": {},
   "outputs": [],
   "source": [
    "reg = LR().fit(x_data, y_data)"
   ]
  },
  {
   "cell_type": "code",
   "execution_count": 133,
   "metadata": {},
   "outputs": [
    {
     "data": {
      "text/plain": [
       "1.0"
      ]
     },
     "execution_count": 133,
     "metadata": {},
     "output_type": "execute_result"
    }
   ],
   "source": [
    "reg.score(x_data, y_data)"
   ]
  },
  {
   "cell_type": "code",
   "execution_count": 134,
   "metadata": {},
   "outputs": [],
   "source": [
    "y_predicted = reg.predict(x_test)"
   ]
  },
  {
   "cell_type": "code",
   "execution_count": 117,
   "metadata": {},
   "outputs": [
    {
     "data": {
      "text/plain": [
       "array([ 3.10986705e-19, -7.97864582e-17,  7.57834744e-17,  1.00000000e+00])"
      ]
     },
     "execution_count": 117,
     "metadata": {},
     "output_type": "execute_result"
    }
   ],
   "source": [
    "reg.coef_"
   ]
  },
  {
   "cell_type": "code",
   "execution_count": 118,
   "metadata": {},
   "outputs": [
    {
     "data": {
      "text/plain": [
       "1.2367884494324244e-13"
      ]
     },
     "execution_count": 118,
     "metadata": {},
     "output_type": "execute_result"
    }
   ],
   "source": [
    "reg.intercept_"
   ]
  },
  {
   "cell_type": "code",
   "execution_count": 119,
   "metadata": {},
   "outputs": [
    {
     "data": {
      "text/plain": [
       "<bound method LinearModel.predict of LinearRegression()>"
      ]
     },
     "execution_count": 119,
     "metadata": {},
     "output_type": "execute_result"
    }
   ],
   "source": [
    "reg.predict #(np.array([[3, 5]])) ex."
   ]
  },
  {
   "cell_type": "code",
   "execution_count": 138,
   "metadata": {},
   "outputs": [],
   "source": [
    "y_predicted = reg.predict(x_test)"
   ]
  }
 ],
 "metadata": {
  "kernelspec": {
   "display_name": "Python 3.9.12 ('base')",
   "language": "python",
   "name": "python3"
  },
  "language_info": {
   "codemirror_mode": {
    "name": "ipython",
    "version": 3
   },
   "file_extension": ".py",
   "mimetype": "text/x-python",
   "name": "python",
   "nbconvert_exporter": "python",
   "pygments_lexer": "ipython3",
   "version": "3.9.12"
  },
  "orig_nbformat": 4,
  "vscode": {
   "interpreter": {
    "hash": "53268d429fe8007277d58353424377c3c56a51408f44f169cee4649a7ccfd4de"
   }
  }
 },
 "nbformat": 4,
 "nbformat_minor": 2
}
