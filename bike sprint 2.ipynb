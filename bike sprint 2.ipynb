{
 "cells": [
  {
   "cell_type": "code",
   "execution_count": 99,
   "metadata": {},
   "outputs": [],
   "source": [
    "# data normalisation with sklearn\n",
    "from sklearn.preprocessing import MinMaxScaler\n",
    "from sklearn.preprocessing import OneHotEncoder\n",
    "from sklearn.preprocessing import LabelEncoder\n",
    "import numpy as np\n",
    "import pandas as pd\n",
    "import matplotlib.pyplot as plt\n",
    "%matplotlib inline\n",
    "from matplotlib.pylab import rcParams\n",
    "rcParams [\"figure.figsize\"] = 10,6\n",
    "import seaborn as sns\n",
    "from scipy import stats\n",
    "import math\n",
    "import datetime\n",
    "import urllib\n",
    "import zipfile\n",
    "import statsmodels.tsa.stattools as sts\n",
    "from statsmodels.tsa.seasonal import seasonal_decompose\n",
    "import plotly.express as px\n",
    "import glob\n",
    "ohe = OneHotEncoder\n",
    "le = LabelEncoder()\n",
    "sc_X = StandardScaler()\n",
    "from sklearn.compose import ColumnTransformer\n",
    "le = LabelEncoder()\n",
    "\n",
    "from sklearn.model_selection import train_test_split\n",
    "\n",
    "from sklearn.feature_selection import RFE\n",
    "from sklearn.linear_model import LinearRegression as LR\n",
    "\n",
    "from sklearn.metrics import accuracy_score\n",
    "from sklearn.metrics import classification_report\n",
    "from sklearn.preprocessing import StandardScaler\n",
    "\n",
    "from sklearn.metrics import cohen_kappa_score"
   ]
  },
  {
   "cell_type": "code",
   "execution_count": 59,
   "metadata": {},
   "outputs": [],
   "source": [
    "bike_station = pd.read_csv('stations.csv')\n"
   ]
  },
  {
   "cell_type": "code",
   "execution_count": 68,
   "metadata": {},
   "outputs": [
    {
     "data": {
      "text/html": [
       "<div>\n",
       "<style scoped>\n",
       "    .dataframe tbody tr th:only-of-type {\n",
       "        vertical-align: middle;\n",
       "    }\n",
       "\n",
       "    .dataframe tbody tr th {\n",
       "        vertical-align: top;\n",
       "    }\n",
       "\n",
       "    .dataframe thead th {\n",
       "        text-align: right;\n",
       "    }\n",
       "</style>\n",
       "<table border=\"1\" class=\"dataframe\">\n",
       "  <thead>\n",
       "    <tr style=\"text-align: right;\">\n",
       "      <th></th>\n",
       "      <th>Duration</th>\n",
       "      <th>Start date</th>\n",
       "      <th>End date</th>\n",
       "      <th>Start station number</th>\n",
       "      <th>Start station</th>\n",
       "      <th>End station number</th>\n",
       "      <th>End station</th>\n",
       "      <th>Bike number</th>\n",
       "      <th>Member type</th>\n",
       "      <th>Member cat</th>\n",
       "    </tr>\n",
       "  </thead>\n",
       "  <tbody>\n",
       "    <tr>\n",
       "      <th>0</th>\n",
       "      <td>3548</td>\n",
       "      <td>2011-01-01 00:01:29</td>\n",
       "      <td>2011-01-01 01:00:37</td>\n",
       "      <td>31620</td>\n",
       "      <td>5th &amp; F St NW</td>\n",
       "      <td>31620</td>\n",
       "      <td>5th &amp; F St NW</td>\n",
       "      <td>W00247</td>\n",
       "      <td>Member</td>\n",
       "      <td>2</td>\n",
       "    </tr>\n",
       "    <tr>\n",
       "      <th>1</th>\n",
       "      <td>346</td>\n",
       "      <td>2011-01-01 00:02:46</td>\n",
       "      <td>2011-01-01 00:08:32</td>\n",
       "      <td>31105</td>\n",
       "      <td>14th &amp; Harvard St NW</td>\n",
       "      <td>31101</td>\n",
       "      <td>14th &amp; V St NW</td>\n",
       "      <td>W00675</td>\n",
       "      <td>Casual</td>\n",
       "      <td>1</td>\n",
       "    </tr>\n",
       "    <tr>\n",
       "      <th>2</th>\n",
       "      <td>562</td>\n",
       "      <td>2011-01-01 00:06:13</td>\n",
       "      <td>2011-01-01 00:15:36</td>\n",
       "      <td>31400</td>\n",
       "      <td>Georgia &amp; New Hampshire Ave NW</td>\n",
       "      <td>31104</td>\n",
       "      <td>Adams Mill &amp; Columbia Rd NW</td>\n",
       "      <td>W00357</td>\n",
       "      <td>Member</td>\n",
       "      <td>2</td>\n",
       "    </tr>\n",
       "    <tr>\n",
       "      <th>3</th>\n",
       "      <td>434</td>\n",
       "      <td>2011-01-01 00:09:21</td>\n",
       "      <td>2011-01-01 00:16:36</td>\n",
       "      <td>31111</td>\n",
       "      <td>10th &amp; U St NW</td>\n",
       "      <td>31503</td>\n",
       "      <td>Florida Ave &amp; R St NW</td>\n",
       "      <td>W00970</td>\n",
       "      <td>Member</td>\n",
       "      <td>2</td>\n",
       "    </tr>\n",
       "    <tr>\n",
       "      <th>4</th>\n",
       "      <td>233</td>\n",
       "      <td>2011-01-01 00:28:26</td>\n",
       "      <td>2011-01-01 00:32:19</td>\n",
       "      <td>31104</td>\n",
       "      <td>Adams Mill &amp; Columbia Rd NW</td>\n",
       "      <td>31106</td>\n",
       "      <td>Calvert &amp; Biltmore St NW</td>\n",
       "      <td>W00346</td>\n",
       "      <td>Casual</td>\n",
       "      <td>1</td>\n",
       "    </tr>\n",
       "  </tbody>\n",
       "</table>\n",
       "</div>"
      ],
      "text/plain": [
       "   Duration           Start date             End date  Start station number  \\\n",
       "0      3548  2011-01-01 00:01:29  2011-01-01 01:00:37                 31620   \n",
       "1       346  2011-01-01 00:02:46  2011-01-01 00:08:32                 31105   \n",
       "2       562  2011-01-01 00:06:13  2011-01-01 00:15:36                 31400   \n",
       "3       434  2011-01-01 00:09:21  2011-01-01 00:16:36                 31111   \n",
       "4       233  2011-01-01 00:28:26  2011-01-01 00:32:19                 31104   \n",
       "\n",
       "                    Start station  End station number  \\\n",
       "0                   5th & F St NW               31620   \n",
       "1            14th & Harvard St NW               31101   \n",
       "2  Georgia & New Hampshire Ave NW               31104   \n",
       "3                  10th & U St NW               31503   \n",
       "4     Adams Mill & Columbia Rd NW               31106   \n",
       "\n",
       "                   End station Bike number Member type Member cat  \n",
       "0                5th & F St NW      W00247      Member          2  \n",
       "1               14th & V St NW      W00675      Casual          1  \n",
       "2  Adams Mill & Columbia Rd NW      W00357      Member          2  \n",
       "3        Florida Ave & R St NW      W00970      Member          2  \n",
       "4     Calvert & Biltmore St NW      W00346      Casual          1  "
      ]
     },
     "execution_count": 68,
     "metadata": {},
     "output_type": "execute_result"
    }
   ],
   "source": [
    "bike_station.head()"
   ]
  },
  {
   "cell_type": "code",
   "execution_count": 61,
   "metadata": {},
   "outputs": [],
   "source": [
    "bike_station.loc[bike_station['Member type'] == \"Casual\", 'Member cat'] = \"1\"\n",
    "bike_station.loc[bike_station['Member type'] == \"Member\", 'Member cat'] = \"2\"\n",
    "bike_station.loc[bike_station['Member type'] == \"Unknown\", 'Member cat'] = \"1\""
   ]
  },
  {
   "cell_type": "code",
   "execution_count": 62,
   "metadata": {},
   "outputs": [
    {
     "data": {
      "text/html": [
       "<div>\n",
       "<style scoped>\n",
       "    .dataframe tbody tr th:only-of-type {\n",
       "        vertical-align: middle;\n",
       "    }\n",
       "\n",
       "    .dataframe tbody tr th {\n",
       "        vertical-align: top;\n",
       "    }\n",
       "\n",
       "    .dataframe thead th {\n",
       "        text-align: right;\n",
       "    }\n",
       "</style>\n",
       "<table border=\"1\" class=\"dataframe\">\n",
       "  <thead>\n",
       "    <tr style=\"text-align: right;\">\n",
       "      <th></th>\n",
       "      <th>Duration</th>\n",
       "      <th>Start date</th>\n",
       "      <th>End date</th>\n",
       "      <th>Start station number</th>\n",
       "      <th>Start station</th>\n",
       "      <th>End station number</th>\n",
       "      <th>End station</th>\n",
       "      <th>Bike number</th>\n",
       "      <th>Member type</th>\n",
       "      <th>Member cat</th>\n",
       "    </tr>\n",
       "  </thead>\n",
       "  <tbody>\n",
       "    <tr>\n",
       "      <th>0</th>\n",
       "      <td>3548</td>\n",
       "      <td>2011-01-01 00:01:29</td>\n",
       "      <td>2011-01-01 01:00:37</td>\n",
       "      <td>31620</td>\n",
       "      <td>5th &amp; F St NW</td>\n",
       "      <td>31620</td>\n",
       "      <td>5th &amp; F St NW</td>\n",
       "      <td>W00247</td>\n",
       "      <td>Member</td>\n",
       "      <td>2</td>\n",
       "    </tr>\n",
       "    <tr>\n",
       "      <th>1</th>\n",
       "      <td>346</td>\n",
       "      <td>2011-01-01 00:02:46</td>\n",
       "      <td>2011-01-01 00:08:32</td>\n",
       "      <td>31105</td>\n",
       "      <td>14th &amp; Harvard St NW</td>\n",
       "      <td>31101</td>\n",
       "      <td>14th &amp; V St NW</td>\n",
       "      <td>W00675</td>\n",
       "      <td>Casual</td>\n",
       "      <td>1</td>\n",
       "    </tr>\n",
       "    <tr>\n",
       "      <th>2</th>\n",
       "      <td>562</td>\n",
       "      <td>2011-01-01 00:06:13</td>\n",
       "      <td>2011-01-01 00:15:36</td>\n",
       "      <td>31400</td>\n",
       "      <td>Georgia &amp; New Hampshire Ave NW</td>\n",
       "      <td>31104</td>\n",
       "      <td>Adams Mill &amp; Columbia Rd NW</td>\n",
       "      <td>W00357</td>\n",
       "      <td>Member</td>\n",
       "      <td>2</td>\n",
       "    </tr>\n",
       "    <tr>\n",
       "      <th>3</th>\n",
       "      <td>434</td>\n",
       "      <td>2011-01-01 00:09:21</td>\n",
       "      <td>2011-01-01 00:16:36</td>\n",
       "      <td>31111</td>\n",
       "      <td>10th &amp; U St NW</td>\n",
       "      <td>31503</td>\n",
       "      <td>Florida Ave &amp; R St NW</td>\n",
       "      <td>W00970</td>\n",
       "      <td>Member</td>\n",
       "      <td>2</td>\n",
       "    </tr>\n",
       "    <tr>\n",
       "      <th>4</th>\n",
       "      <td>233</td>\n",
       "      <td>2011-01-01 00:28:26</td>\n",
       "      <td>2011-01-01 00:32:19</td>\n",
       "      <td>31104</td>\n",
       "      <td>Adams Mill &amp; Columbia Rd NW</td>\n",
       "      <td>31106</td>\n",
       "      <td>Calvert &amp; Biltmore St NW</td>\n",
       "      <td>W00346</td>\n",
       "      <td>Casual</td>\n",
       "      <td>1</td>\n",
       "    </tr>\n",
       "    <tr>\n",
       "      <th>...</th>\n",
       "      <td>...</td>\n",
       "      <td>...</td>\n",
       "      <td>...</td>\n",
       "      <td>...</td>\n",
       "      <td>...</td>\n",
       "      <td>...</td>\n",
       "      <td>...</td>\n",
       "      <td>...</td>\n",
       "      <td>...</td>\n",
       "      <td>...</td>\n",
       "    </tr>\n",
       "    <tr>\n",
       "      <th>1226762</th>\n",
       "      <td>300</td>\n",
       "      <td>2011-12-31 23:41:19</td>\n",
       "      <td>2011-12-31 23:46:20</td>\n",
       "      <td>31201</td>\n",
       "      <td>15th &amp; P St NW</td>\n",
       "      <td>31214</td>\n",
       "      <td>17th &amp; Corcoran St NW</td>\n",
       "      <td>W01459</td>\n",
       "      <td>Member</td>\n",
       "      <td>2</td>\n",
       "    </tr>\n",
       "    <tr>\n",
       "      <th>1226763</th>\n",
       "      <td>387</td>\n",
       "      <td>2011-12-31 23:46:43</td>\n",
       "      <td>2011-12-31 23:53:10</td>\n",
       "      <td>31223</td>\n",
       "      <td>Convention Center / 7th &amp; M St NW</td>\n",
       "      <td>31201</td>\n",
       "      <td>15th &amp; P St NW</td>\n",
       "      <td>W01262</td>\n",
       "      <td>Member</td>\n",
       "      <td>2</td>\n",
       "    </tr>\n",
       "    <tr>\n",
       "      <th>1226764</th>\n",
       "      <td>261</td>\n",
       "      <td>2011-12-31 23:47:27</td>\n",
       "      <td>2011-12-31 23:51:49</td>\n",
       "      <td>31107</td>\n",
       "      <td>Lamont &amp; Mt Pleasant NW</td>\n",
       "      <td>31602</td>\n",
       "      <td>Park Rd &amp; Holmead Pl NW</td>\n",
       "      <td>W00998</td>\n",
       "      <td>Member</td>\n",
       "      <td>2</td>\n",
       "    </tr>\n",
       "    <tr>\n",
       "      <th>1226765</th>\n",
       "      <td>2060</td>\n",
       "      <td>2011-12-31 23:55:12</td>\n",
       "      <td>2012-01-01 00:29:33</td>\n",
       "      <td>31205</td>\n",
       "      <td>21st &amp; I St NW</td>\n",
       "      <td>31222</td>\n",
       "      <td>New York Ave &amp; 15th St NW</td>\n",
       "      <td>W00042</td>\n",
       "      <td>Member</td>\n",
       "      <td>2</td>\n",
       "    </tr>\n",
       "    <tr>\n",
       "      <th>1226766</th>\n",
       "      <td>468</td>\n",
       "      <td>2011-12-31 23:55:56</td>\n",
       "      <td>2012-01-01 00:03:45</td>\n",
       "      <td>31221</td>\n",
       "      <td>18th &amp; M St NW</td>\n",
       "      <td>31111</td>\n",
       "      <td>10th &amp; U St NW</td>\n",
       "      <td>W01319</td>\n",
       "      <td>Member</td>\n",
       "      <td>2</td>\n",
       "    </tr>\n",
       "  </tbody>\n",
       "</table>\n",
       "<p>1226767 rows × 10 columns</p>\n",
       "</div>"
      ],
      "text/plain": [
       "         Duration           Start date             End date  \\\n",
       "0            3548  2011-01-01 00:01:29  2011-01-01 01:00:37   \n",
       "1             346  2011-01-01 00:02:46  2011-01-01 00:08:32   \n",
       "2             562  2011-01-01 00:06:13  2011-01-01 00:15:36   \n",
       "3             434  2011-01-01 00:09:21  2011-01-01 00:16:36   \n",
       "4             233  2011-01-01 00:28:26  2011-01-01 00:32:19   \n",
       "...           ...                  ...                  ...   \n",
       "1226762       300  2011-12-31 23:41:19  2011-12-31 23:46:20   \n",
       "1226763       387  2011-12-31 23:46:43  2011-12-31 23:53:10   \n",
       "1226764       261  2011-12-31 23:47:27  2011-12-31 23:51:49   \n",
       "1226765      2060  2011-12-31 23:55:12  2012-01-01 00:29:33   \n",
       "1226766       468  2011-12-31 23:55:56  2012-01-01 00:03:45   \n",
       "\n",
       "         Start station number                      Start station  \\\n",
       "0                       31620                      5th & F St NW   \n",
       "1                       31105               14th & Harvard St NW   \n",
       "2                       31400     Georgia & New Hampshire Ave NW   \n",
       "3                       31111                     10th & U St NW   \n",
       "4                       31104        Adams Mill & Columbia Rd NW   \n",
       "...                       ...                                ...   \n",
       "1226762                 31201                     15th & P St NW   \n",
       "1226763                 31223  Convention Center / 7th & M St NW   \n",
       "1226764                 31107            Lamont & Mt Pleasant NW   \n",
       "1226765                 31205                     21st & I St NW   \n",
       "1226766                 31221                     18th & M St NW   \n",
       "\n",
       "         End station number                  End station Bike number  \\\n",
       "0                     31620                5th & F St NW      W00247   \n",
       "1                     31101               14th & V St NW      W00675   \n",
       "2                     31104  Adams Mill & Columbia Rd NW      W00357   \n",
       "3                     31503        Florida Ave & R St NW      W00970   \n",
       "4                     31106     Calvert & Biltmore St NW      W00346   \n",
       "...                     ...                          ...         ...   \n",
       "1226762               31214        17th & Corcoran St NW      W01459   \n",
       "1226763               31201               15th & P St NW      W01262   \n",
       "1226764               31602      Park Rd & Holmead Pl NW      W00998   \n",
       "1226765               31222    New York Ave & 15th St NW      W00042   \n",
       "1226766               31111               10th & U St NW      W01319   \n",
       "\n",
       "        Member type Member cat  \n",
       "0            Member          2  \n",
       "1            Casual          1  \n",
       "2            Member          2  \n",
       "3            Member          2  \n",
       "4            Casual          1  \n",
       "...             ...        ...  \n",
       "1226762      Member          2  \n",
       "1226763      Member          2  \n",
       "1226764      Member          2  \n",
       "1226765      Member          2  \n",
       "1226766      Member          2  \n",
       "\n",
       "[1226767 rows x 10 columns]"
      ]
     },
     "execution_count": 62,
     "metadata": {},
     "output_type": "execute_result"
    }
   ],
   "source": [
    "bike_station"
   ]
  },
  {
   "cell_type": "code",
   "execution_count": 70,
   "metadata": {},
   "outputs": [
    {
     "data": {
      "text/plain": [
       "<bound method Series.info of 0          2\n",
       "1          1\n",
       "2          2\n",
       "3          2\n",
       "4          1\n",
       "          ..\n",
       "1226762    2\n",
       "1226763    2\n",
       "1226764    2\n",
       "1226765    2\n",
       "1226766    2\n",
       "Name: Member cat, Length: 1226767, dtype: object>"
      ]
     },
     "execution_count": 70,
     "metadata": {},
     "output_type": "execute_result"
    }
   ],
   "source": [
    "bike_station[\"Member cat\"].info\n"
   ]
  },
  {
   "cell_type": "code",
   "execution_count": 65,
   "metadata": {},
   "outputs": [
    {
     "name": "stdout",
     "output_type": "stream",
     "text": [
      "<class 'sklearn.preprocessing._encoders.OneHotEncoder'>\n"
     ]
    }
   ],
   "source": [
    "#fix the hot encoding\n",
    "\n",
    "print(ohe)"
   ]
  },
  {
   "cell_type": "code",
   "execution_count": 97,
   "metadata": {},
   "outputs": [
    {
     "data": {
      "text/html": [
       "<div>\n",
       "<style scoped>\n",
       "    .dataframe tbody tr th:only-of-type {\n",
       "        vertical-align: middle;\n",
       "    }\n",
       "\n",
       "    .dataframe tbody tr th {\n",
       "        vertical-align: top;\n",
       "    }\n",
       "\n",
       "    .dataframe thead th {\n",
       "        text-align: right;\n",
       "    }\n",
       "</style>\n",
       "<table border=\"1\" class=\"dataframe\">\n",
       "  <thead>\n",
       "    <tr style=\"text-align: right;\">\n",
       "      <th></th>\n",
       "      <th>Member cat</th>\n",
       "      <th>Member cat new</th>\n",
       "    </tr>\n",
       "  </thead>\n",
       "  <tbody>\n",
       "    <tr>\n",
       "      <th>0</th>\n",
       "      <td>2</td>\n",
       "      <td>1</td>\n",
       "    </tr>\n",
       "    <tr>\n",
       "      <th>1</th>\n",
       "      <td>1</td>\n",
       "      <td>0</td>\n",
       "    </tr>\n",
       "    <tr>\n",
       "      <th>2</th>\n",
       "      <td>2</td>\n",
       "      <td>1</td>\n",
       "    </tr>\n",
       "    <tr>\n",
       "      <th>3</th>\n",
       "      <td>2</td>\n",
       "      <td>1</td>\n",
       "    </tr>\n",
       "    <tr>\n",
       "      <th>4</th>\n",
       "      <td>1</td>\n",
       "      <td>0</td>\n",
       "    </tr>\n",
       "    <tr>\n",
       "      <th>...</th>\n",
       "      <td>...</td>\n",
       "      <td>...</td>\n",
       "    </tr>\n",
       "    <tr>\n",
       "      <th>1226762</th>\n",
       "      <td>2</td>\n",
       "      <td>1</td>\n",
       "    </tr>\n",
       "    <tr>\n",
       "      <th>1226763</th>\n",
       "      <td>2</td>\n",
       "      <td>1</td>\n",
       "    </tr>\n",
       "    <tr>\n",
       "      <th>1226764</th>\n",
       "      <td>2</td>\n",
       "      <td>1</td>\n",
       "    </tr>\n",
       "    <tr>\n",
       "      <th>1226765</th>\n",
       "      <td>2</td>\n",
       "      <td>1</td>\n",
       "    </tr>\n",
       "    <tr>\n",
       "      <th>1226766</th>\n",
       "      <td>2</td>\n",
       "      <td>1</td>\n",
       "    </tr>\n",
       "  </tbody>\n",
       "</table>\n",
       "<p>1226767 rows × 2 columns</p>\n",
       "</div>"
      ],
      "text/plain": [
       "        Member cat  Member cat new\n",
       "0                2               1\n",
       "1                1               0\n",
       "2                2               1\n",
       "3                2               1\n",
       "4                1               0\n",
       "...            ...             ...\n",
       "1226762          2               1\n",
       "1226763          2               1\n",
       "1226764          2               1\n",
       "1226765          2               1\n",
       "1226766          2               1\n",
       "\n",
       "[1226767 rows x 2 columns]"
      ]
     },
     "execution_count": 97,
     "metadata": {},
     "output_type": "execute_result"
    }
   ],
   "source": [
    "new_station = pd.DataFrame(bike_station, columns=['Member cat'])\n",
    "\n",
    "new_station['Member cat'] = new_station['Member cat'].astype('category')\n",
    "\n",
    "new_station['Member cat new'] = new_station['Member cat'].cat.codes\n",
    "\n",
    "new_station"
   ]
  },
  {
   "cell_type": "code",
   "execution_count": 103,
   "metadata": {},
   "outputs": [],
   "source": [
    "x_data = bike_station[[\"Duration\", \"Start station number\", \"End station number\"]] #change to something more useful like start date and end date. Fix the dates though, first. \n",
    "y_data = new_station[\"Member cat new\"]\n",
    "\n",
    "#need to change member type. C=1,  M=2. Unknown are also 1."
   ]
  },
  {
   "cell_type": "code",
   "execution_count": 102,
   "metadata": {},
   "outputs": [
    {
     "data": {
      "text/plain": [
       "[         Duration           Start date             End date  \\\n",
       " 0            3548  2011-01-01 00:01:29  2011-01-01 01:00:37   \n",
       " 1             346  2011-01-01 00:02:46  2011-01-01 00:08:32   \n",
       " 2             562  2011-01-01 00:06:13  2011-01-01 00:15:36   \n",
       " 3             434  2011-01-01 00:09:21  2011-01-01 00:16:36   \n",
       " 4             233  2011-01-01 00:28:26  2011-01-01 00:32:19   \n",
       " ...           ...                  ...                  ...   \n",
       " 1226762       300  2011-12-31 23:41:19  2011-12-31 23:46:20   \n",
       " 1226763       387  2011-12-31 23:46:43  2011-12-31 23:53:10   \n",
       " 1226764       261  2011-12-31 23:47:27  2011-12-31 23:51:49   \n",
       " 1226765      2060  2011-12-31 23:55:12  2012-01-01 00:29:33   \n",
       " 1226766       468  2011-12-31 23:55:56  2012-01-01 00:03:45   \n",
       " \n",
       "          Start station number                      Start station  \\\n",
       " 0                       31620                      5th & F St NW   \n",
       " 1                       31105               14th & Harvard St NW   \n",
       " 2                       31400     Georgia & New Hampshire Ave NW   \n",
       " 3                       31111                     10th & U St NW   \n",
       " 4                       31104        Adams Mill & Columbia Rd NW   \n",
       " ...                       ...                                ...   \n",
       " 1226762                 31201                     15th & P St NW   \n",
       " 1226763                 31223  Convention Center / 7th & M St NW   \n",
       " 1226764                 31107            Lamont & Mt Pleasant NW   \n",
       " 1226765                 31205                     21st & I St NW   \n",
       " 1226766                 31221                     18th & M St NW   \n",
       " \n",
       "          End station number                  End station Bike number  \\\n",
       " 0                     31620                5th & F St NW      W00247   \n",
       " 1                     31101               14th & V St NW      W00675   \n",
       " 2                     31104  Adams Mill & Columbia Rd NW      W00357   \n",
       " 3                     31503        Florida Ave & R St NW      W00970   \n",
       " 4                     31106     Calvert & Biltmore St NW      W00346   \n",
       " ...                     ...                          ...         ...   \n",
       " 1226762               31214        17th & Corcoran St NW      W01459   \n",
       " 1226763               31201               15th & P St NW      W01262   \n",
       " 1226764               31602      Park Rd & Holmead Pl NW      W00998   \n",
       " 1226765               31222    New York Ave & 15th St NW      W00042   \n",
       " 1226766               31111               10th & U St NW      W01319   \n",
       " \n",
       "         Member type Member cat  \n",
       " 0            Member          2  \n",
       " 1            Casual          1  \n",
       " 2            Member          2  \n",
       " 3            Member          2  \n",
       " 4            Casual          1  \n",
       " ...             ...        ...  \n",
       " 1226762      Member          2  \n",
       " 1226763      Member          2  \n",
       " 1226764      Member          2  \n",
       " 1226765      Member          2  \n",
       " 1226766      Member          2  \n",
       " \n",
       " [1226767 rows x 10 columns],\n",
       "         Member cat  Member cat new\n",
       " 0                2               1\n",
       " 1                1               0\n",
       " 2                2               1\n",
       " 3                2               1\n",
       " 4                1               0\n",
       " ...            ...             ...\n",
       " 1226762          2               1\n",
       " 1226763          2               1\n",
       " 1226764          2               1\n",
       " 1226765          2               1\n",
       " 1226766          2               1\n",
       " \n",
       " [1226767 rows x 2 columns]]"
      ]
     },
     "execution_count": 102,
     "metadata": {},
     "output_type": "execute_result"
    }
   ],
   "source": [
    "test_frame = [bike_station, new_station]\n",
    "test_frame"
   ]
  },
  {
   "cell_type": "code",
   "execution_count": 104,
   "metadata": {},
   "outputs": [
    {
     "data": {
      "text/plain": [
       "(        Duration  Start station number  End station number\n",
       " 0           3548                 31620               31620\n",
       " 1            346                 31105               31101\n",
       " 2            562                 31400               31104\n",
       " 3            434                 31111               31503\n",
       " 4            233                 31104               31106\n",
       " ...          ...                   ...                 ...\n",
       " 858731       785                 31236               31225\n",
       " 858732       495                 31227               31604\n",
       " 858733       701                 31219               31109\n",
       " 858734       180                 31111               31101\n",
       " 858735      1079                 31219               31213\n",
       " \n",
       " [858736 rows x 3 columns],\n",
       "          Duration  Start station number  End station number\n",
       " 858736       1204                 31503               31237\n",
       " 858737       1202                 31503               31237\n",
       " 858738       2580                 31215               31215\n",
       " 858739       1049                 31219               31213\n",
       " 858740        841                 31203               31237\n",
       " ...           ...                   ...                 ...\n",
       " 1226762       300                 31201               31214\n",
       " 1226763       387                 31223               31201\n",
       " 1226764       261                 31107               31602\n",
       " 1226765      2060                 31205               31222\n",
       " 1226766       468                 31221               31111\n",
       " \n",
       " [368031 rows x 3 columns],\n",
       " 0         1\n",
       " 1         0\n",
       " 2         1\n",
       " 3         1\n",
       " 4         0\n",
       "          ..\n",
       " 858731    1\n",
       " 858732    1\n",
       " 858733    1\n",
       " 858734    1\n",
       " 858735    0\n",
       " Name: Member cat new, Length: 858736, dtype: int8,\n",
       " 858736     1\n",
       " 858737     1\n",
       " 858738     0\n",
       " 858739     0\n",
       " 858740     1\n",
       "           ..\n",
       " 1226762    1\n",
       " 1226763    1\n",
       " 1226764    1\n",
       " 1226765    1\n",
       " 1226766    1\n",
       " Name: Member cat new, Length: 368031, dtype: int8)"
      ]
     },
     "execution_count": 104,
     "metadata": {},
     "output_type": "execute_result"
    }
   ],
   "source": [
    "\n",
    "x_train, x_test, y_train, y_test = train_test_split(x_data, y_data ,test_size = 0.3, shuffle=False)\n",
    "x_train, x_test, y_train, y_test"
   ]
  },
  {
   "cell_type": "code",
   "execution_count": 105,
   "metadata": {},
   "outputs": [],
   "source": [
    "X_train, X_test, y_train, y_test = train_test_split(x_data, y_data,test_size=0.2, random_state=42)"
   ]
  },
  {
   "cell_type": "code",
   "execution_count": 106,
   "metadata": {},
   "outputs": [],
   "source": [
    "# data normalisation with sklearn\n",
    "from sklearn.preprocessing import MinMaxScaler\n",
    "\n",
    "# fit scaler on training data\n",
    "norm = MinMaxScaler().fit(X_train)\n",
    "\n",
    "# transform training data\n",
    "X_train_norm = norm.transform(X_train)\n",
    "\n",
    "# transform testing data\n",
    "X_test_norm = norm.transform(X_test)"
   ]
  },
  {
   "cell_type": "code",
   "execution_count": 107,
   "metadata": {},
   "outputs": [
    {
     "data": {
      "text/plain": [
       "Duration                False\n",
       "Start date              False\n",
       "End date                False\n",
       "Start station number    False\n",
       "Start station           False\n",
       "End station number      False\n",
       "End station             False\n",
       "Bike number             False\n",
       "Member type             False\n",
       "Member cat              False\n",
       "dtype: bool"
      ]
     },
     "execution_count": 107,
     "metadata": {},
     "output_type": "execute_result"
    }
   ],
   "source": [
    "bike_station.isnull().any()\n",
    "\n",
    "#I need to drop the Unknown ones...done."
   ]
  },
  {
   "cell_type": "code",
   "execution_count": 108,
   "metadata": {},
   "outputs": [],
   "source": [
    "reg = LR().fit(x_data, y_data)"
   ]
  },
  {
   "cell_type": "code",
   "execution_count": 109,
   "metadata": {},
   "outputs": [
    {
     "data": {
      "text/plain": [
       "0.10754912433886676"
      ]
     },
     "execution_count": 109,
     "metadata": {},
     "output_type": "execute_result"
    }
   ],
   "source": [
    "reg.score(x_data, y_data)"
   ]
  },
  {
   "cell_type": "code",
   "execution_count": 110,
   "metadata": {},
   "outputs": [],
   "source": [
    "y_predicted = reg.predict(x_test)"
   ]
  },
  {
   "cell_type": "code",
   "execution_count": 111,
   "metadata": {},
   "outputs": [
    {
     "data": {
      "text/plain": [
       "array([-5.25730215e-05,  4.36012701e-05,  5.50321730e-05])"
      ]
     },
     "execution_count": 111,
     "metadata": {},
     "output_type": "execute_result"
    }
   ],
   "source": [
    "reg.coef_"
   ]
  },
  {
   "cell_type": "code",
   "execution_count": 112,
   "metadata": {},
   "outputs": [
    {
     "data": {
      "text/plain": [
       "-2.2253248156715673"
      ]
     },
     "execution_count": 112,
     "metadata": {},
     "output_type": "execute_result"
    }
   ],
   "source": [
    "reg.intercept_"
   ]
  },
  {
   "cell_type": "code",
   "execution_count": 113,
   "metadata": {},
   "outputs": [
    {
     "data": {
      "text/plain": [
       "<bound method LinearModel.predict of LinearRegression()>"
      ]
     },
     "execution_count": 113,
     "metadata": {},
     "output_type": "execute_result"
    }
   ],
   "source": [
    "reg.predict #(np.array([[3, 5]])) ex."
   ]
  },
  {
   "cell_type": "code",
   "execution_count": 114,
   "metadata": {},
   "outputs": [
    {
     "data": {
      "text/plain": [
       "array([0.80398807, 0.80409321, 0.71787972, ..., 0.85638507, 0.7451669 ,\n",
       "       0.8234522 ])"
      ]
     },
     "execution_count": 114,
     "metadata": {},
     "output_type": "execute_result"
    }
   ],
   "source": [
    "y_predicted = reg.predict(x_test)\n",
    "y_predicted"
   ]
  }
 ],
 "metadata": {
  "kernelspec": {
   "display_name": "Python 3.9.12 ('base')",
   "language": "python",
   "name": "python3"
  },
  "language_info": {
   "codemirror_mode": {
    "name": "ipython",
    "version": 3
   },
   "file_extension": ".py",
   "mimetype": "text/x-python",
   "name": "python",
   "nbconvert_exporter": "python",
   "pygments_lexer": "ipython3",
   "version": "3.9.12"
  },
  "orig_nbformat": 4,
  "vscode": {
   "interpreter": {
    "hash": "53268d429fe8007277d58353424377c3c56a51408f44f169cee4649a7ccfd4de"
   }
  }
 },
 "nbformat": 4,
 "nbformat_minor": 2
}
